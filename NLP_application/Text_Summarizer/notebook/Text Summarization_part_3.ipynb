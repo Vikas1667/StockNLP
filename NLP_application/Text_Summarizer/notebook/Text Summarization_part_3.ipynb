{
 "cells": [
  {
   "cell_type": "code",
   "execution_count": 8,
   "metadata": {},
   "outputs": [],
   "source": [
    "# !pip install PyPDF4\n",
    "import PyPDF4 as pdf\n",
    "from pathlib import Path\n",
    "from os import path\n",
    "from PyPDF4.generic import RectangleObject\n",
    "import glob"
   ]
  },
  {
   "cell_type": "code",
   "execution_count": 9,
   "metadata": {},
   "outputs": [
    {
     "data": {
      "text/plain": [
       "<_io.BufferedReader name='FoodWastage.pdf'>"
      ]
     },
     "execution_count": 9,
     "metadata": {},
     "output_type": "execute_result"
    }
   ],
   "source": [
    "file=open(\"FoodWastage.pdf\",\"rb\")\n",
    "file"
   ]
  },
  {
   "cell_type": "code",
   "execution_count": 10,
   "metadata": {},
   "outputs": [
    {
     "data": {
      "text/plain": [
       "<PyPDF4.pdf.PdfFileReader at 0x2b820ea5e80>"
      ]
     },
     "execution_count": 10,
     "metadata": {},
     "output_type": "execute_result"
    }
   ],
   "source": [
    "pdf_reader=pdf.PdfFileReader(file)\n",
    "pdf_reader"
   ]
  },
  {
   "cell_type": "code",
   "execution_count": 11,
   "metadata": {},
   "outputs": [
    {
     "name": "stdout",
     "output_type": "stream",
     "text": [
      "194\n",
      "ii\n",
      "Report \n",
      " \n",
      "on \n",
      " \n",
      "Assessment of Wastage of Food and Ostentatious \n",
      "Behaviour During Social Gatherings \n",
      "(Marriages/Parties/Meetings, etc)  \n",
      "in National Capi\n",
      "tal Region Delhi \n",
      " \n",
      " \n",
      "\n",
      " \n",
      " \n",
      " \n",
      " \n",
      "Sponsored by  \n",
      "Department of Consumer Affairs \n",
      "Ministry of Consumer Affairs, \n",
      "Food and Public Distribution \n",
      "Government of India \n",
      " \n",
      " \n",
      " \n",
      "\n",
      " \n",
      "\n",
      " \n",
      " \n",
      " \n",
      " \n",
      "Conducted by \n",
      "Centre for Consumer Studies \n",
      "Indian Institute of Pu\n",
      "blic Administration \n",
      "IP Estate, Ring Ro\n",
      "ad, New Delhi - 110002 \n",
      "\n"
     ]
    }
   ],
   "source": [
    "num_of_pages=pdf_reader.getNumPages()\n",
    "print(num_of_pages)\n",
    "\n",
    "page1=pdf_reader.getPage(1)\n",
    "page1_text=page1.extractText()\n",
    "print(page1_text)"
   ]
  },
  {
   "cell_type": "code",
   "execution_count": 12,
   "metadata": {},
   "outputs": [
    {
     "name": "stdout",
     "output_type": "stream",
     "text": [
      "Assessment of Wastage \n",
      "of Food and Ostentatious \n",
      "Behaviour During Social Gatherings \n",
      "(Marriages/Parties/\n",
      "Meetings, etc)  \n",
      "in National Capi\n",
      "tal Region Delhi \n",
      " \n",
      "Project Directors \n",
      "Prof. Suresh Misra \n",
      "Dr. Sapna Chadah \n",
      "Dr. Mamta Pathania  \n",
      " \n",
      " \n",
      "Project Associates \n",
      "Dr. Amit Kumar Singh \n",
      "Mr. Virendra Nath Mishra \n",
      "Mr. Pankaj Kumar Singh  \n",
      "Mr. Ashutosh Dixit \n",
      "Dr. Yatish Mishra \n",
      " \n",
      "\n",
      " \n",
      " \n",
      " \n",
      " \n",
      "Sponsored by  \n",
      "Department of Consumer Affairs \n",
      "Ministry of Consumer Affairs, \n",
      "Food and Public Distribution \n",
      "Government of India \n",
      " \n",
      " \n",
      " \n",
      " \n",
      "Conducted by \n",
      "Centre for Consumer Studies \n",
      "Indian Institute of Pu\n",
      "blic Administration \n",
      "IP Estate, Ring Ro\n",
      "ad, New Delhi - 110002 \n",
      "\n"
     ]
    }
   ],
   "source": [
    "page2=pdf_reader.getPage(2)\n",
    "page2_text=page2.extractText()\n",
    "print(page2_text)"
   ]
  },
  {
   "cell_type": "code",
   "execution_count": 13,
   "metadata": {},
   "outputs": [],
   "source": [
    "pdf_writer=pdf.PdfFileWriter()"
   ]
  },
  {
   "cell_type": "code",
   "execution_count": 14,
   "metadata": {},
   "outputs": [],
   "source": [
    "pdf_writer.addPage(page2)"
   ]
  },
  {
   "cell_type": "code",
   "execution_count": 15,
   "metadata": {},
   "outputs": [],
   "source": [
    "output=open(\"Pages.pdf\",\"wb\")"
   ]
  },
  {
   "cell_type": "code",
   "execution_count": 16,
   "metadata": {},
   "outputs": [],
   "source": [
    "pdf_writer.write(output)\n",
    "output.close()"
   ]
  },
  {
   "cell_type": "code",
   "execution_count": 17,
   "metadata": {},
   "outputs": [],
   "source": [
    "for page in range(num_of_pages):\n",
    "    current_page=pdf_reader.getPage(page)\n",
    "    pdf_writer_2=pdf_writer.addPage(current_page)"
   ]
  },
  {
   "cell_type": "code",
   "execution_count": 18,
   "metadata": {},
   "outputs": [],
   "source": [
    "output_file=open(\"Link_pages.pdf\",\"wb\")"
   ]
  },
  {
   "cell_type": "code",
   "execution_count": 19,
   "metadata": {},
   "outputs": [],
   "source": [
    "pdf_writer.write(output_file)\n",
    "output_file.close()"
   ]
  },
  {
   "cell_type": "code",
   "execution_count": 21,
   "metadata": {},
   "outputs": [],
   "source": [
    "# !pip install sumy summa lexrank spacy nltk gensim"
   ]
  },
  {
   "cell_type": "code",
   "execution_count": 22,
   "metadata": {},
   "outputs": [],
   "source": [
    "docx = \"\"\"\n",
    "Consumer protection is the practice of safeguarding buyers of goods and services, and the public, against unfair practices in the marketplace. Consumer protection measures are often established by law. Such laws are intended to prevent businesses from engaging in fraud or specified unfair practices in order to gain an advantage over competitors or to mislead consumers. They may also provide additional protection for the general public which may be impacted by a product (or its production) even when they are not the direct purchaser or consumer of that product. For example, government regulations may require businesses to disclose detailed information about their products—particularly in areas where public health or safety is an issue, such as with food or automobiles.\n",
    "Consumer protection is linked to the idea of consumer rights and to the formation of consumer organizations, which help consumers make better choices in the marketplace and pursue complaints against businesses. Entities that promote consumer protection include government organizations (such as the Federal Trade Commission in the United States), self-regulating business organizations (such as the Better Business Bureaus in the US, Canada, England, etc.), and non-governmental organizations that advocate for consumer protection laws and help to ensure their enforcement (such as consumer protection agencies and watchdog groups).[1]\n",
    "A consumer is defined as someone who acquires goods or services for direct use or ownership rather than for resale or use in production and manufacturing. Consumer interests can also serve consumers, consistent with economic efficiency, but this topic is treated in competition law. Consumer protection can also be asserted via non-government organization's and individuals as consumer activism.\n",
    "\"\"\""
   ]
  },
  {
   "cell_type": "code",
   "execution_count": 23,
   "metadata": {},
   "outputs": [],
   "source": [
    "# Load Our Pkgs\n",
    "import sumy"
   ]
  },
  {
   "cell_type": "code",
   "execution_count": 24,
   "metadata": {},
   "outputs": [],
   "source": [
    "# Load Pkgs\n",
    "from sumy.parsers.plaintext import PlaintextParser\n",
    "from sumy.nlp.tokenizers import Tokenizer"
   ]
  },
  {
   "cell_type": "code",
   "execution_count": 25,
   "metadata": {},
   "outputs": [
    {
     "name": "stdout",
     "output_type": "stream",
     "text": [
      "\n",
      "Consumer protection is the practice of safeguarding buyers of goods and services, and the public, against unfair practices in the marketplace. Consumer protection measures are often established by law. Such laws are intended to prevent businesses from engaging in fraud or specified unfair practices in order to gain an advantage over competitors or to mislead consumers. They may also provide additional protection for the general public which may be impacted by a product (or its production) even when they are not the direct purchaser or consumer of that product. For example, government regulations may require businesses to disclose detailed information about their products—particularly in areas where public health or safety is an issue, such as with food or automobiles.\n",
      "Consumer protection is linked to the idea of consumer rights and to the formation of consumer organizations, which help consumers make better choices in the marketplace and pursue complaints against businesses. Entities that promote consumer protection include government organizations (such as the Federal Trade Commission in the United States), self-regulating business organizations (such as the Better Business Bureaus in the US, Canada, England, etc.), and non-governmental organizations that advocate for consumer protection laws and help to ensure their enforcement (such as consumer protection agencies and watchdog groups).[1]\n",
      "A consumer is defined as someone who acquires goods or services for direct use or ownership rather than for resale or use in production and manufacturing. Consumer interests can also serve consumers, consistent with economic efficiency, but this topic is treated in competition law. Consumer protection can also be asserted via non-government organization's and individuals as consumer activism.\n",
      "\n"
     ]
    }
   ],
   "source": [
    "print(docx)"
   ]
  },
  {
   "cell_type": "code",
   "execution_count": 26,
   "metadata": {},
   "outputs": [
    {
     "name": "stdout",
     "output_type": "stream",
     "text": [
      "[nltk_data] Downloading package punkt to\n",
      "[nltk_data]     C:\\Users\\HP\\AppData\\Roaming\\nltk_data...\n",
      "[nltk_data]   Package punkt is already up-to-date!\n"
     ]
    }
   ],
   "source": [
    "# Parsing From String\n",
    "import nltk\n",
    "nltk.download('punkt')\n",
    "parser = PlaintextParser.from_string(docx,Tokenizer(\"english\"))"
   ]
  },
  {
   "cell_type": "code",
   "execution_count": 27,
   "metadata": {},
   "outputs": [
    {
     "data": {
      "text/plain": [
       "<DOM with 1 paragraphs>"
      ]
     },
     "execution_count": 27,
     "metadata": {},
     "output_type": "execute_result"
    }
   ],
   "source": [
    "# Get The Text\n",
    "parser.document"
   ]
  },
  {
   "cell_type": "code",
   "execution_count": 28,
   "metadata": {},
   "outputs": [
    {
     "data": {
      "text/plain": [
       "(<Sentence: Consumer protection is the practice of safeguarding buyers of goods and services, and the public, against unfair practices in the marketplace.>,\n",
       " <Sentence: Consumer protection measures are often established by law.>,\n",
       " <Sentence: Such laws are intended to prevent businesses from engaging in fraud or specified unfair practices in order to gain an advantage over competitors or to mislead consumers.>,\n",
       " <Sentence: They may also provide additional protection for the general public which may be impacted by a product (or its production) even when they are not the direct purchaser or consumer of that product.>,\n",
       " <Sentence: For example, government regulations may require businesses to disclose detailed information about their products—particularly in areas where public health or safety is an issue, such as with food or automobiles.>,\n",
       " <Sentence: Consumer protection is linked to the idea of consumer rights and to the formation of consumer organizations, which help consumers make better choices in the marketplace and pursue complaints against businesses.>,\n",
       " <Sentence: Entities that promote consumer protection include government organizations (such as the Federal Trade Commission in the United States), self-regulating business organizations (such as the Better Business Bureaus in the US, Canada, England, etc.>,\n",
       " <Sentence: ), and non-governmental organizations that advocate for consumer protection laws and help to ensure their enforcement (such as consumer protection agencies and watchdog groups).>,\n",
       " <Sentence: [1] A consumer is defined as someone who acquires goods or services for direct use or ownership rather than for resale or use in production and manufacturing.>,\n",
       " <Sentence: Consumer interests can also serve consumers, consistent with economic efficiency, but this topic is treated in competition law.>,\n",
       " <Sentence: Consumer protection can also be asserted via non-government organization's and individuals as consumer activism.>)"
      ]
     },
     "execution_count": 28,
     "metadata": {},
     "output_type": "execute_result"
    }
   ],
   "source": [
    "# Get The Sentence Text\n",
    "parser.document.sentences"
   ]
  },
  {
   "cell_type": "code",
   "execution_count": 29,
   "metadata": {},
   "outputs": [
    {
     "data": {
      "text/plain": [
       "('Consumer',\n",
       " 'protection',\n",
       " 'is',\n",
       " 'the',\n",
       " 'practice',\n",
       " 'of',\n",
       " 'safeguarding',\n",
       " 'buyers',\n",
       " 'of',\n",
       " 'goods',\n",
       " 'and',\n",
       " 'services',\n",
       " 'and',\n",
       " 'the',\n",
       " 'public',\n",
       " 'against',\n",
       " 'unfair',\n",
       " 'practices',\n",
       " 'in',\n",
       " 'the',\n",
       " 'marketplace',\n",
       " 'Consumer',\n",
       " 'protection',\n",
       " 'measures',\n",
       " 'are',\n",
       " 'often',\n",
       " 'established',\n",
       " 'by',\n",
       " 'law',\n",
       " 'Such',\n",
       " 'laws',\n",
       " 'are',\n",
       " 'intended',\n",
       " 'to',\n",
       " 'prevent',\n",
       " 'businesses',\n",
       " 'from',\n",
       " 'engaging',\n",
       " 'in',\n",
       " 'fraud',\n",
       " 'or',\n",
       " 'specified',\n",
       " 'unfair',\n",
       " 'practices',\n",
       " 'in',\n",
       " 'order',\n",
       " 'to',\n",
       " 'gain',\n",
       " 'an',\n",
       " 'advantage',\n",
       " 'over',\n",
       " 'competitors',\n",
       " 'or',\n",
       " 'to',\n",
       " 'mislead',\n",
       " 'consumers',\n",
       " 'They',\n",
       " 'may',\n",
       " 'also',\n",
       " 'provide',\n",
       " 'additional',\n",
       " 'protection',\n",
       " 'for',\n",
       " 'the',\n",
       " 'general',\n",
       " 'public',\n",
       " 'which',\n",
       " 'may',\n",
       " 'be',\n",
       " 'impacted',\n",
       " 'by',\n",
       " 'a',\n",
       " 'product',\n",
       " 'or',\n",
       " 'its',\n",
       " 'production',\n",
       " 'even',\n",
       " 'when',\n",
       " 'they',\n",
       " 'are',\n",
       " 'not',\n",
       " 'the',\n",
       " 'direct',\n",
       " 'purchaser',\n",
       " 'or',\n",
       " 'consumer',\n",
       " 'of',\n",
       " 'that',\n",
       " 'product',\n",
       " 'For',\n",
       " 'example',\n",
       " 'government',\n",
       " 'regulations',\n",
       " 'may',\n",
       " 'require',\n",
       " 'businesses',\n",
       " 'to',\n",
       " 'disclose',\n",
       " 'detailed',\n",
       " 'information',\n",
       " 'about',\n",
       " 'their',\n",
       " 'in',\n",
       " 'areas',\n",
       " 'where',\n",
       " 'public',\n",
       " 'health',\n",
       " 'or',\n",
       " 'safety',\n",
       " 'is',\n",
       " 'an',\n",
       " 'issue',\n",
       " 'such',\n",
       " 'as',\n",
       " 'with',\n",
       " 'food',\n",
       " 'or',\n",
       " 'automobiles',\n",
       " 'Consumer',\n",
       " 'protection',\n",
       " 'is',\n",
       " 'linked',\n",
       " 'to',\n",
       " 'the',\n",
       " 'idea',\n",
       " 'of',\n",
       " 'consumer',\n",
       " 'rights',\n",
       " 'and',\n",
       " 'to',\n",
       " 'the',\n",
       " 'formation',\n",
       " 'of',\n",
       " 'consumer',\n",
       " 'organizations',\n",
       " 'which',\n",
       " 'help',\n",
       " 'consumers',\n",
       " 'make',\n",
       " 'better',\n",
       " 'choices',\n",
       " 'in',\n",
       " 'the',\n",
       " 'marketplace',\n",
       " 'and',\n",
       " 'pursue',\n",
       " 'complaints',\n",
       " 'against',\n",
       " 'businesses',\n",
       " 'Entities',\n",
       " 'that',\n",
       " 'promote',\n",
       " 'consumer',\n",
       " 'protection',\n",
       " 'include',\n",
       " 'government',\n",
       " 'organizations',\n",
       " 'such',\n",
       " 'as',\n",
       " 'the',\n",
       " 'Federal',\n",
       " 'Trade',\n",
       " 'Commission',\n",
       " 'in',\n",
       " 'the',\n",
       " 'United',\n",
       " 'States',\n",
       " 'self-regulating',\n",
       " 'business',\n",
       " 'organizations',\n",
       " 'such',\n",
       " 'as',\n",
       " 'the',\n",
       " 'Better',\n",
       " 'Business',\n",
       " 'Bureaus',\n",
       " 'in',\n",
       " 'the',\n",
       " 'US',\n",
       " 'Canada',\n",
       " 'England',\n",
       " 'etc',\n",
       " 'and',\n",
       " 'non-governmental',\n",
       " 'organizations',\n",
       " 'that',\n",
       " 'advocate',\n",
       " 'for',\n",
       " 'consumer',\n",
       " 'protection',\n",
       " 'laws',\n",
       " 'and',\n",
       " 'help',\n",
       " 'to',\n",
       " 'ensure',\n",
       " 'their',\n",
       " 'enforcement',\n",
       " 'such',\n",
       " 'as',\n",
       " 'consumer',\n",
       " 'protection',\n",
       " 'agencies',\n",
       " 'and',\n",
       " 'watchdog',\n",
       " 'groups',\n",
       " 'A',\n",
       " 'consumer',\n",
       " 'is',\n",
       " 'defined',\n",
       " 'as',\n",
       " 'someone',\n",
       " 'who',\n",
       " 'acquires',\n",
       " 'goods',\n",
       " 'or',\n",
       " 'services',\n",
       " 'for',\n",
       " 'direct',\n",
       " 'use',\n",
       " 'or',\n",
       " 'ownership',\n",
       " 'rather',\n",
       " 'than',\n",
       " 'for',\n",
       " 'resale',\n",
       " 'or',\n",
       " 'use',\n",
       " 'in',\n",
       " 'production',\n",
       " 'and',\n",
       " 'manufacturing',\n",
       " 'Consumer',\n",
       " 'interests',\n",
       " 'can',\n",
       " 'also',\n",
       " 'serve',\n",
       " 'consumers',\n",
       " 'consistent',\n",
       " 'with',\n",
       " 'economic',\n",
       " 'efficiency',\n",
       " 'but',\n",
       " 'this',\n",
       " 'topic',\n",
       " 'is',\n",
       " 'treated',\n",
       " 'in',\n",
       " 'competition',\n",
       " 'law',\n",
       " 'Consumer',\n",
       " 'protection',\n",
       " 'can',\n",
       " 'also',\n",
       " 'be',\n",
       " 'asserted',\n",
       " 'via',\n",
       " 'non-government',\n",
       " 'organization',\n",
       " 'and',\n",
       " 'individuals',\n",
       " 'as',\n",
       " 'consumer',\n",
       " 'activism')"
      ]
     },
     "execution_count": 29,
     "metadata": {},
     "output_type": "execute_result"
    }
   ],
   "source": [
    "# Get Word Tokens\n",
    "parser.document.words"
   ]
  },
  {
   "cell_type": "code",
   "execution_count": 30,
   "metadata": {},
   "outputs": [],
   "source": [
    "from sumy.summarizers.luhn import LuhnSummarizer"
   ]
  },
  {
   "cell_type": "code",
   "execution_count": 31,
   "metadata": {},
   "outputs": [],
   "source": [
    "luhn_summarizer = LuhnSummarizer()\n",
    "summary_1 = luhn_summarizer(parser.document,2) # 3 =  number of sentences we want"
   ]
  },
  {
   "cell_type": "code",
   "execution_count": 32,
   "metadata": {},
   "outputs": [
    {
     "name": "stdout",
     "output_type": "stream",
     "text": [
      "(<Sentence: They may also provide additional protection for the general public which may be impacted by a product (or its production) even when they are not the direct purchaser or consumer of that product.>, <Sentence: Consumer protection is linked to the idea of consumer rights and to the formation of consumer organizations, which help consumers make better choices in the marketplace and pursue complaints against businesses.>)\n"
     ]
    }
   ],
   "source": [
    "print(summary_1)"
   ]
  },
  {
   "cell_type": "code",
   "execution_count": 33,
   "metadata": {},
   "outputs": [
    {
     "name": "stdout",
     "output_type": "stream",
     "text": [
      "They may also provide additional protection for the general public which may be impacted by a product (or its production) even when they are not the direct purchaser or consumer of that product.\n",
      "Consumer protection is linked to the idea of consumer rights and to the formation of consumer organizations, which help consumers make better choices in the marketplace and pursue complaints against businesses.\n"
     ]
    }
   ],
   "source": [
    "for sentence in summary_1:\n",
    "    print(sentence)"
   ]
  },
  {
   "cell_type": "code",
   "execution_count": 34,
   "metadata": {},
   "outputs": [],
   "source": [
    "# Load Our Pkgs\n",
    "from sumy.summarizers.lsa import LsaSummarizer"
   ]
  },
  {
   "cell_type": "code",
   "execution_count": 35,
   "metadata": {},
   "outputs": [],
   "source": [
    "lsa_summarizer = LsaSummarizer()"
   ]
  },
  {
   "cell_type": "code",
   "execution_count": 36,
   "metadata": {},
   "outputs": [],
   "source": [
    "summary_2 = lsa_summarizer(parser.document,3)"
   ]
  },
  {
   "cell_type": "code",
   "execution_count": 37,
   "metadata": {},
   "outputs": [
    {
     "name": "stdout",
     "output_type": "stream",
     "text": [
      "They may also provide additional protection for the general public which may be impacted by a product (or its production) even when they are not the direct purchaser or consumer of that product.\n",
      "For example, government regulations may require businesses to disclose detailed information about their products—particularly in areas where public health or safety is an issue, such as with food or automobiles.\n",
      "Consumer interests can also serve consumers, consistent with economic efficiency, but this topic is treated in competition law.\n"
     ]
    }
   ],
   "source": [
    "for sentence in summary_2:\n",
    "    print(sentence)"
   ]
  },
  {
   "cell_type": "code",
   "execution_count": 38,
   "metadata": {},
   "outputs": [],
   "source": [
    "# Alternative Method using stopwords\n",
    "from sumy.nlp.stemmers import Stemmer\n",
    "from sumy.utils import get_stop_words\n",
    "summarizer_lsa2 = LsaSummarizer()\n",
    "summarizer_lsa2 = LsaSummarizer(Stemmer(\"english\"))\n",
    "summarizer_lsa2.stop_words = get_stop_words(\"english\")"
   ]
  },
  {
   "cell_type": "code",
   "execution_count": 39,
   "metadata": {},
   "outputs": [
    {
     "name": "stdout",
     "output_type": "stream",
     "text": [
      "Such laws are intended to prevent businesses from engaging in fraud or specified unfair practices in order to gain an advantage over competitors or to mislead consumers.\n",
      "For example, government regulations may require businesses to disclose detailed information about their products—particularly in areas where public health or safety is an issue, such as with food or automobiles.\n",
      "[1] A consumer is defined as someone who acquires goods or services for direct use or ownership rather than for resale or use in production and manufacturing.\n"
     ]
    }
   ],
   "source": [
    "for summary in summarizer_lsa2(parser.document,3):\n",
    "    print(summary)"
   ]
  },
  {
   "cell_type": "code",
   "execution_count": 40,
   "metadata": {},
   "outputs": [],
   "source": [
    "# Using Sumy Lexrank\n",
    "from sumy.summarizers.lex_rank import LexRankSummarizer"
   ]
  },
  {
   "cell_type": "code",
   "execution_count": 41,
   "metadata": {},
   "outputs": [
    {
     "name": "stdout",
     "output_type": "stream",
     "text": [
      "Requirement already satisfied: sumy in c:\\users\\hp\\anaconda3\\lib\\site-packages (0.9.0)\n",
      "Collecting summa\n",
      "  Downloading summa-1.2.0.tar.gz (54 kB)\n",
      "  Preparing metadata (setup.py): started\n",
      "  Preparing metadata (setup.py): finished with status 'done'\n",
      "Collecting lexrank\n",
      "  Downloading lexrank-0.1.0-py3-none-any.whl (69 kB)\n",
      "Requirement already satisfied: spacy in c:\\users\\hp\\anaconda3\\lib\\site-packages (3.0.7)\n",
      "Requirement already satisfied: nltk in c:\\users\\hp\\anaconda3\\lib\\site-packages (3.3)\n",
      "Requirement already satisfied: gensim in c:\\users\\hp\\appdata\\roaming\\python\\python38\\site-packages (4.0.1)\n",
      "Requirement already satisfied: docopt<0.7,>=0.6.1 in c:\\users\\hp\\anaconda3\\lib\\site-packages (from sumy) (0.6.2)\n",
      "Requirement already satisfied: breadability>=0.1.20 in c:\\users\\hp\\anaconda3\\lib\\site-packages (from sumy) (0.1.20)\n",
      "Requirement already satisfied: pycountry>=18.2.23 in c:\\users\\hp\\anaconda3\\lib\\site-packages (from sumy) (22.1.10)\n",
      "Requirement already satisfied: requests>=2.7.0 in c:\\users\\hp\\anaconda3\\lib\\site-packages (from sumy) (2.24.0)\n",
      "Requirement already satisfied: scipy>=0.19 in c:\\users\\hp\\anaconda3\\lib\\site-packages (from summa) (1.7.3)\n",
      "Requirement already satisfied: numpy>=1.13.3 in c:\\users\\hp\\anaconda3\\lib\\site-packages (from lexrank) (1.19.3)\n",
      "Requirement already satisfied: pyrsistent>=0.14.0 in c:\\users\\hp\\anaconda3\\lib\\site-packages (from lexrank) (0.16.0)\n",
      "Requirement already satisfied: regex>=2017.11.9 in c:\\users\\hp\\anaconda3\\lib\\site-packages (from lexrank) (2020.9.27)\n",
      "Collecting urlextract>=0.7\n",
      "  Downloading urlextract-1.5.0-py3-none-any.whl (20 kB)\n",
      "Collecting path.py>=10.5\n",
      "  Downloading path.py-12.5.0-py3-none-any.whl (2.3 kB)\n",
      "Requirement already satisfied: murmurhash<1.1.0,>=0.28.0 in c:\\users\\hp\\anaconda3\\lib\\site-packages (from spacy) (1.0.5)\n",
      "Requirement already satisfied: spacy-legacy<3.1.0,>=3.0.5 in c:\\users\\hp\\anaconda3\\lib\\site-packages (from spacy) (3.0.8)\n",
      "Requirement already satisfied: jinja2 in c:\\users\\hp\\anaconda3\\lib\\site-packages (from spacy) (2.11.2)\n",
      "Requirement already satisfied: tqdm<5.0.0,>=4.38.0 in c:\\users\\hp\\appdata\\roaming\\python\\python38\\site-packages (from spacy) (4.62.3)\n",
      "Requirement already satisfied: preshed<3.1.0,>=3.0.2 in c:\\users\\hp\\anaconda3\\lib\\site-packages (from spacy) (3.0.5)\n",
      "Requirement already satisfied: setuptools in c:\\users\\hp\\anaconda3\\lib\\site-packages (from spacy) (49.2.0.post20200714)\n",
      "Requirement already satisfied: catalogue<2.1.0,>=2.0.4 in c:\\users\\hp\\anaconda3\\lib\\site-packages (from spacy) (2.0.6)\n",
      "Requirement already satisfied: wasabi<1.1.0,>=0.8.1 in c:\\users\\hp\\anaconda3\\lib\\site-packages (from spacy) (0.8.2)\n",
      "Requirement already satisfied: thinc<8.1.0,>=8.0.3 in c:\\users\\hp\\anaconda3\\lib\\site-packages (from spacy) (8.0.8)\n",
      "Requirement already satisfied: typer<0.4.0,>=0.3.0 in c:\\users\\hp\\anaconda3\\lib\\site-packages (from spacy) (0.3.2)\n",
      "Requirement already satisfied: pathy>=0.3.5 in c:\\users\\hp\\anaconda3\\lib\\site-packages (from spacy) (0.6.0)\n",
      "Requirement already satisfied: blis<0.8.0,>=0.4.0 in c:\\users\\hp\\anaconda3\\lib\\site-packages (from spacy) (0.7.4)\n",
      "Requirement already satisfied: cymem<2.1.0,>=2.0.2 in c:\\users\\hp\\anaconda3\\lib\\site-packages (from spacy) (2.0.5)\n",
      "Requirement already satisfied: pydantic!=1.8,!=1.8.1,<1.9.0,>=1.7.4 in c:\\users\\hp\\appdata\\roaming\\python\\python38\\site-packages (from spacy) (1.8.2)\n",
      "Requirement already satisfied: packaging>=20.0 in c:\\users\\hp\\anaconda3\\lib\\site-packages (from spacy) (21.0)\n",
      "Requirement already satisfied: srsly<3.0.0,>=2.4.1 in c:\\users\\hp\\anaconda3\\lib\\site-packages (from spacy) (2.4.1)\n",
      "Requirement already satisfied: six in c:\\users\\hp\\anaconda3\\lib\\site-packages (from nltk) (1.15.0)\n",
      "Requirement already satisfied: smart-open>=1.8.1 in c:\\users\\hp\\anaconda3\\lib\\site-packages (from gensim) (5.2.1)\n",
      "Requirement already satisfied: Cython==0.29.21 in c:\\users\\hp\\appdata\\roaming\\python\\python38\\site-packages (from gensim) (0.29.21)\n",
      "Requirement already satisfied: chardet in c:\\users\\hp\\anaconda3\\lib\\site-packages (from breadability>=0.1.20->sumy) (3.0.4)\n",
      "Requirement already satisfied: lxml>=2.0 in c:\\users\\hp\\anaconda3\\lib\\site-packages (from breadability>=0.1.20->sumy) (4.5.2)\n",
      "Requirement already satisfied: pyparsing>=2.0.2 in c:\\users\\hp\\anaconda3\\lib\\site-packages (from packaging>=20.0->spacy) (2.4.7)\n",
      "Requirement already satisfied: path in c:\\users\\hp\\anaconda3\\lib\\site-packages (from path.py>=10.5->lexrank) (13.1.0)\n",
      "Requirement already satisfied: typing-extensions>=3.7.4.3 in c:\\users\\hp\\anaconda3\\lib\\site-packages (from pydantic!=1.8,!=1.8.1,<1.9.0,>=1.7.4->spacy) (3.7.4.3)\n",
      "Requirement already satisfied: certifi>=2017.4.17 in c:\\users\\hp\\anaconda3\\lib\\site-packages (from requests>=2.7.0->sumy) (2020.6.20)\n",
      "Requirement already satisfied: idna<3,>=2.5 in c:\\users\\hp\\anaconda3\\lib\\site-packages (from requests>=2.7.0->sumy) (2.10)\n",
      "Requirement already satisfied: urllib3!=1.25.0,!=1.25.1,<1.26,>=1.21.1 in c:\\users\\hp\\anaconda3\\lib\\site-packages (from requests>=2.7.0->sumy) (1.25.9)\n",
      "Requirement already satisfied: colorama in c:\\users\\hp\\anaconda3\\lib\\site-packages (from tqdm<5.0.0,>=4.38.0->spacy) (0.4.3)\n",
      "Requirement already satisfied: click<7.2.0,>=7.1.1 in c:\\users\\hp\\anaconda3\\lib\\site-packages (from typer<0.4.0,>=0.3.0->spacy) (7.1.2)\n",
      "Requirement already satisfied: filelock in c:\\users\\hp\\anaconda3\\lib\\site-packages (from urlextract>=0.7->lexrank) (3.0.12)\n",
      "Collecting uritools\n",
      "  Downloading uritools-4.0.0-py3-none-any.whl (10 kB)\n",
      "Collecting platformdirs\n",
      "  Downloading platformdirs-2.5.0-py3-none-any.whl (14 kB)\n",
      "Requirement already satisfied: MarkupSafe>=0.23 in c:\\users\\hp\\anaconda3\\lib\\site-packages (from jinja2->spacy) (2.0.1)\n",
      "Building wheels for collected packages: summa\n",
      "  Building wheel for summa (setup.py): started\n",
      "  Building wheel for summa (setup.py): finished with status 'done'\n",
      "  Created wheel for summa: filename=summa-1.2.0-py3-none-any.whl size=54411 sha256=605d9b0efdfe1dfac811847c5edebdbb831c0e13db4c53e41ca46864941974e9\n",
      "  Stored in directory: c:\\users\\hp\\appdata\\local\\pip\\cache\\wheels\\fd\\6a\\dd\\209eb19d5f2266b9cfd06827539bf70435b0ad5fe8244e52d3\n",
      "Successfully built summa\n",
      "Installing collected packages: uritools, platformdirs, urlextract, path.py, summa, lexrank\n",
      "Successfully installed lexrank-0.1.0 path.py-12.5.0 platformdirs-2.5.0 summa-1.2.0 uritools-4.0.0 urlextract-1.5.0\n"
     ]
    },
    {
     "name": "stderr",
     "output_type": "stream",
     "text": [
      "WARNING: Ignoring invalid distribution -umpy (c:\\users\\hp\\anaconda3\\lib\\site-packages)\n",
      "WARNING: Ignoring invalid distribution -umpy (c:\\users\\hp\\anaconda3\\lib\\site-packages)\n",
      "WARNING: Ignoring invalid distribution -umpy (c:\\users\\hp\\anaconda3\\lib\\site-packages)\n",
      "WARNING: Ignoring invalid distribution -umpy (c:\\users\\hp\\anaconda3\\lib\\site-packages)\n",
      "WARNING: Ignoring invalid distribution -umpy (c:\\users\\hp\\anaconda3\\lib\\site-packages)\n",
      "WARNING: Ignoring invalid distribution -umpy (c:\\users\\hp\\anaconda3\\lib\\site-packages)\n",
      "WARNING: Ignoring invalid distribution -umpy (c:\\users\\hp\\anaconda3\\lib\\site-packages)\n",
      "WARNING: Ignoring invalid distribution -umpy (c:\\users\\hp\\anaconda3\\lib\\site-packages)\n",
      "WARNING: Ignoring invalid distribution -umpy (c:\\users\\hp\\anaconda3\\lib\\site-packages)\n",
      "WARNING: Ignoring invalid distribution -umpy (c:\\users\\hp\\anaconda3\\lib\\site-packages)\n",
      "WARNING: Ignoring invalid distribution -umpy (c:\\users\\hp\\anaconda3\\lib\\site-packages)\n",
      "WARNING: Ignoring invalid distribution -umpy (c:\\users\\hp\\anaconda3\\lib\\site-packages)\n",
      "WARNING: You are using pip version 21.3.1; however, version 22.0.3 is available.\n",
      "You should consider upgrading via the 'c:\\users\\hp\\anaconda3\\python.exe -m pip install --upgrade pip' command.\n"
     ]
    }
   ],
   "source": [
    "lex_summarizer = LexRankSummarizer()"
   ]
  },
  {
   "cell_type": "code",
   "execution_count": 42,
   "metadata": {},
   "outputs": [],
   "source": [
    "summary_3 = lex_summarizer(parser.document,3)"
   ]
  },
  {
   "cell_type": "code",
   "execution_count": 43,
   "metadata": {},
   "outputs": [
    {
     "name": "stdout",
     "output_type": "stream",
     "text": [
      "Consumer protection is the practice of safeguarding buyers of goods and services, and the public, against unfair practices in the marketplace.\n",
      "They may also provide additional protection for the general public which may be impacted by a product (or its production) even when they are not the direct purchaser or consumer of that product.\n",
      "Consumer protection is linked to the idea of consumer rights and to the formation of consumer organizations, which help consumers make better choices in the marketplace and pursue complaints against businesses.\n"
     ]
    }
   ],
   "source": [
    "for summary in summary_3:\n",
    "    print(summary)"
   ]
  },
  {
   "cell_type": "code",
   "execution_count": 44,
   "metadata": {},
   "outputs": [],
   "source": [
    "from sumy.summarizers.text_rank import TextRankSummarizer"
   ]
  },
  {
   "cell_type": "code",
   "execution_count": 45,
   "metadata": {},
   "outputs": [],
   "source": [
    "txtRank = TextRankSummarizer()"
   ]
  },
  {
   "cell_type": "code",
   "execution_count": 46,
   "metadata": {},
   "outputs": [],
   "source": [
    "summary_4 = txtRank(parser.document,2)"
   ]
  },
  {
   "cell_type": "code",
   "execution_count": 47,
   "metadata": {},
   "outputs": [
    {
     "name": "stdout",
     "output_type": "stream",
     "text": [
      "Consumer protection is linked to the idea of consumer rights and to the formation of consumer organizations, which help consumers make better choices in the marketplace and pursue complaints against businesses.\n",
      "Entities that promote consumer protection include government organizations (such as the Federal Trade Commission in the United States), self-regulating business organizations (such as the Better Business Bureaus in the US, Canada, England, etc.\n"
     ]
    }
   ],
   "source": [
    "for summary in summary_4:\n",
    "    print(summary)"
   ]
  },
  {
   "cell_type": "code",
   "execution_count": 48,
   "metadata": {},
   "outputs": [],
   "source": [
    "# Using Summa\n",
    "from summa import summarizer"
   ]
  },
  {
   "cell_type": "code",
   "execution_count": 49,
   "metadata": {},
   "outputs": [
    {
     "data": {
      "text/plain": [
       "'Consumer protection is the practice of safeguarding buyers of goods and services, and the public, against unfair practices in the marketplace.\\nEntities that promote consumer protection include government organizations (such as the Federal Trade Commission in the United States), self-regulating business organizations (such as the Better Business Bureaus in the US, Canada, England, etc.), and non-governmental organizations that advocate for consumer protection laws and help to ensure their enforcement (such as consumer protection agencies and watchdog groups).[1]'"
      ]
     },
     "execution_count": 49,
     "metadata": {},
     "output_type": "execute_result"
    }
   ],
   "source": [
    "summarizer.summarize(docx)"
   ]
  },
  {
   "cell_type": "code",
   "execution_count": 50,
   "metadata": {},
   "outputs": [],
   "source": [
    "new_text=\"\"\"\n",
    "Computer science is the study of algorithmic processes, computational machines and computation itself. As a discipline, computer science spans a range of topics from theoretical studies of algorithms, computation and information to the practical issues of implementing computational systems in hardware and software.Its fields can be divided into theoretical and practical disciplines. For example, the theory of computation concerns abstract models of computation and general classes of problems that can be solved using them, while computer graphics or computational geometry emphasize more specific applications. Algorithms and data structures have been called the heart of computer science. Programming language theory considers approaches to the description of computational processes, while computer programming involves the use of them to create complex systems. Computer architecture describes construction of computer components and computer-operated equipment. Artificial intelligence aims to synthesize goal-orientated processes such as problem-solving, decision-making, environmental adaptation, planning and learning found in humans and animals. A digital computer is capable of simulating various information processes. The fundamental concern of computer science is determining what can and cannot be automated. Computer scientists usually focus on academic research. The Turing Award is generally recognized as the highest distinction in computer sciences.\n",
    "\"\"\""
   ]
  },
  {
   "cell_type": "code",
   "execution_count": 51,
   "metadata": {},
   "outputs": [],
   "source": [
    "#!pip install transformers"
   ]
  },
  {
   "cell_type": "code",
   "execution_count": 52,
   "metadata": {},
   "outputs": [],
   "source": [
    "#!pip install transformers==2.5.0"
   ]
  },
  {
   "cell_type": "code",
   "execution_count": 53,
   "metadata": {},
   "outputs": [],
   "source": [
    "#!pip install spacy-transformers==0.6.0"
   ]
  },
  {
   "cell_type": "code",
   "execution_count": 54,
   "metadata": {},
   "outputs": [
    {
     "ename": "NameError",
     "evalue": "name 'name' is not defined",
     "output_type": "error",
     "traceback": [
      "\u001b[1;31m---------------------------------------------------------------------------\u001b[0m",
      "\u001b[1;31mNameError\u001b[0m                                 Traceback (most recent call last)",
      "\u001b[1;32m<ipython-input-54-9113ab470925>\u001b[0m in \u001b[0;36m<module>\u001b[1;34m\u001b[0m\n\u001b[0;32m     19\u001b[0m     \u001b[1;34m''''''\u001b[0m\u001b[1;33m\u001b[0m\u001b[1;33m\u001b[0m\u001b[0m\n\u001b[0;32m     20\u001b[0m \u001b[1;33m\u001b[0m\u001b[0m\n\u001b[1;32m---> 21\u001b[1;33m \u001b[1;32mif\u001b[0m \u001b[0mname\u001b[0m \u001b[1;33m==\u001b[0m\u001b[1;34m'main'\u001b[0m\u001b[1;33m:\u001b[0m\u001b[1;33m\u001b[0m\u001b[1;33m\u001b[0m\u001b[0m\n\u001b[0m\u001b[0;32m     22\u001b[0m     \u001b[0mpdf_text\u001b[0m\u001b[1;33m=\u001b[0m\u001b[0mpdf_extractor\u001b[0m\u001b[1;33m(\u001b[0m\u001b[0mpdf_path\u001b[0m\u001b[1;33m)\u001b[0m\u001b[1;33m\u001b[0m\u001b[1;33m\u001b[0m\u001b[0m\n",
      "\u001b[1;31mNameError\u001b[0m: name 'name' is not defined"
     ]
    }
   ],
   "source": [
    "\n",
    "def pdf_extractor(pdf_path):\n",
    "    '''reading pdf and extracting text within '''\n",
    "    pdf_extractor=pdf_extractor()\n",
    "    \n",
    "    \n",
    "    pdf_text\n",
    "    return pdf_text\n",
    "\n",
    "def summarizer(pdf_extracted_text):\n",
    "    ''''''\n",
    "    return summarize_text\n",
    "\n",
    "\n",
    "def text_pdf_conversion(summarize_text,path_of_summarize_pdf):\n",
    "    \n",
    "    return pdf_object\n",
    "\n",
    "def pdf_writer():\n",
    "    ''''''    \n",
    "    \n",
    "if name =='main':\n",
    "    pdf_text=pdf_extractor(pdf_path)\n"
   ]
  },
  {
   "cell_type": "code",
   "execution_count": null,
   "metadata": {},
   "outputs": [],
   "source": [
    "\n",
    "    "
   ]
  },
  {
   "cell_type": "code",
   "execution_count": null,
   "metadata": {},
   "outputs": [],
   "source": []
  }
 ],
 "metadata": {
  "kernelspec": {
   "display_name": "Python 3",
   "language": "python",
   "name": "python3"
  },
  "language_info": {
   "codemirror_mode": {
    "name": "ipython",
    "version": 3
   },
   "file_extension": ".py",
   "mimetype": "text/x-python",
   "name": "python",
   "nbconvert_exporter": "python",
   "pygments_lexer": "ipython3",
   "version": "3.8.3"
  }
 },
 "nbformat": 4,
 "nbformat_minor": 4
}
