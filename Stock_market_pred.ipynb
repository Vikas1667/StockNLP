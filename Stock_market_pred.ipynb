{
 "cells": [
  {
   "cell_type": "code",
   "execution_count": 9,
   "metadata": {
    "scrolled": true
   },
   "outputs": [],
   "source": [
    "import requests \n",
    "# !pip install bs4\n",
    "# !pip install --upgrade kiteconnect\n",
    "# !pip install moneycontrolPy\n",
    "# !pip install dateparser\n",
    "# !pip install moneycontrolPy\n",
    "# !pip install dateparser\n",
    "# !pip install selenium\n",
    "from selenium import webdriver\n",
    "\n",
    "# from webdriver_manager.chrome import ChromeDriverManager\n",
    "\n",
    "# driver = webdriver.Chrome(ChromeDriverManager().install())"
   ]
  },
  {
   "cell_type": "markdown",
   "metadata": {},
   "source": [
    "## https://towardsdatascience.com/using-nlp-to-predict-almost-bankruptcy-b2613ed62a3\n",
    " https://github.com/gslicht/Using_NLP_to_Predict_Almost_Bankruptcy/blob/master/other%20reports/Machine%20Learning%20Implementation.pdf\n",
    " \n",
    "\n",
    "\n",
    "http://thesis.honors.olemiss.edu/945/1/ForrestShortThesis%20.pdf\n"
   ]
  },
  {
   "cell_type": "code",
   "execution_count": null,
   "metadata": {},
   "outputs": [],
   "source": [
    "import moneycontrolPy.mcp as mcp\n",
    "\n",
    "api = mcp.API()\n",
    "api.DRIVER_PATH = 'C:/Users/HP/anaconda3/Lib/site-packages/chromedriver.exe'\n",
    "\n",
    "url_user = \"https://mmb.moneycontrol.com/arvind151-user-profile-617276696e64313531.html\"\n",
    "url_post = \"https://mmb.moneycontrol.com/forum-topics/stocks/hero-motocorp/thread-message-81248383-83073237.html\"\n",
    "url_stock = 'https://mmb.moneycontrol.com/forum-topics/stocks/ab-money-246165.html'\n",
    "\n",
    "\"\"\"\n",
    "You could change the urls if you want to search \n",
    "for a specific user/post/stock from the moneycontol forum.\n",
    "\"\"\"\n",
    "\n",
    "user_info = api.get_user_info(url_user)                 #To extract the user information\n",
    "post_info = api.get_post_info(url_post)                 #To extract the post information\n",
    "stock_info = api.get_stock_info(url_stock)              #To extract the stock information\n",
    "top_boarders = api.get_top_boarders()                   #To extract the top boarders\n",
    "hot_stocks = api.get_stock_in_the_news()                #To extract the stock in the news\n",
    "\n",
    "\"\"\"\n",
    "There are numerous options/parameters available for each of the above functions functions. \n",
    "Please refer the docstring to find them all or you could see the source code & try to understand them.\n",
    "All these functions returns a dict.\n",
    "You can same them as json by passing the following parameter\n",
    "\n",
    "Eg.\n",
    "\n",
    "user_info = api.get_user_info(url_user,save_as_json=True)\n",
    "\"\"\""
   ]
  },
  {
   "cell_type": "code",
   "execution_count": null,
   "metadata": {},
   "outputs": [],
   "source": []
  },
  {
   "cell_type": "code",
   "execution_count": null,
   "metadata": {},
   "outputs": [],
   "source": []
  }
 ],
 "metadata": {
  "kernelspec": {
   "display_name": "Python 3",
   "language": "python",
   "name": "python3"
  },
  "language_info": {
   "codemirror_mode": {
    "name": "ipython",
    "version": 3
   },
   "file_extension": ".py",
   "mimetype": "text/x-python",
   "name": "python",
   "nbconvert_exporter": "python",
   "pygments_lexer": "ipython3",
   "version": "3.8.3"
  }
 },
 "nbformat": 4,
 "nbformat_minor": 4
}
