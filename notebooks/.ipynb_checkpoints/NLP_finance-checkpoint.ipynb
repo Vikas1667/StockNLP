{
 "cells": [
  {
   "cell_type": "code",
   "execution_count": 11,
   "metadata": {},
   "outputs": [
    {
     "name": "stdout",
     "output_type": "stream",
     "text": [
      "Collecting nsetools\n",
      "  Using cached nsetools-1.0.11-py3-none-any.whl (9.6 kB)\n",
      "Collecting dateutils\n",
      "  Using cached dateutils-0.6.12-py2.py3-none-any.whl (5.7 kB)\n",
      "Requirement already satisfied: six in c:\\users\\hp\\anaconda3\\lib\\site-packages (from nsetools) (1.15.0)\n",
      "Requirement already satisfied: python-dateutil in c:\\users\\hp\\anaconda3\\lib\\site-packages (from dateutils->nsetools) (2.8.1)\n",
      "Requirement already satisfied: pytz in c:\\users\\hp\\anaconda3\\lib\\site-packages (from dateutils->nsetools) (2020.1)\n",
      "Installing collected packages: dateutils, nsetools\n",
      "Successfully installed dateutils-0.6.12 nsetools-1.0.11\n"
     ]
    },
    {
     "name": "stderr",
     "output_type": "stream",
     "text": [
      "WARNING: Ignoring invalid distribution -umpy (c:\\users\\hp\\anaconda3\\lib\\site-packages)\n",
      "WARNING: Ignoring invalid distribution -umpy (c:\\users\\hp\\anaconda3\\lib\\site-packages)\n",
      "WARNING: Ignoring invalid distribution -umpy (c:\\users\\hp\\anaconda3\\lib\\site-packages)\n",
      "WARNING: Ignoring invalid distribution -umpy (c:\\users\\hp\\anaconda3\\lib\\site-packages)\n",
      "WARNING: Ignoring invalid distribution -umpy (c:\\users\\hp\\anaconda3\\lib\\site-packages)\n",
      "WARNING: Ignoring invalid distribution -umpy (c:\\users\\hp\\anaconda3\\lib\\site-packages)\n",
      "WARNING: Ignoring invalid distribution -umpy (c:\\users\\hp\\anaconda3\\lib\\site-packages)\n",
      "WARNING: Ignoring invalid distribution -umpy (c:\\users\\hp\\anaconda3\\lib\\site-packages)\n",
      "WARNING: You are using pip version 21.1.1; however, version 21.3.1 is available.\n",
      "You should consider upgrading via the 'c:\\users\\hp\\anaconda3\\python.exe -m pip install --upgrade pip' command.\n"
     ]
    }
   ],
   "source": [
    "# !pip install openpyxl\n",
    "# !pip install pandas_datareader\n",
    "!pip install nsetools\n",
    "# !pip install moneycontrol\n",
    "# !pip install yahoo_fin\n",
    "\n",
    "import pandas as pd\n",
    "# import streamlit as st\n",
    "import matplotlib.pyplot as plt\n",
    "import spacy\n",
    "import re\n",
    "import datetime as dt\n",
    "\n",
    "import pandas_datareader.data as web\n",
    "from yahoo_fin import stock_info as si\n"
   ]
  },
  {
   "cell_type": "code",
   "execution_count": 7,
   "metadata": {},
   "outputs": [
    {
     "name": "stdout",
     "output_type": "stream",
     "text": [
      "(0, 6)\n"
     ]
    },
    {
     "data": {
      "image/png": "[encoded data removed]",
      "text/plain": [
       "<Figure size 432x288 with 1 Axes>"
      ]
     },
     "metadata": {
      "needs_background": "light"
     },
     "output_type": "display_data"
    }
   ],
   "source": [
    "df=pd.read_csv('../stock_data/stock_data.csv',index_col=0)\n",
    "\n",
    "plt.plot(df.iloc[:, 2:])\n",
    "ax = plt.gca()\n",
    "plt.plot(df['Symbol'],df['currentPrice'])\n",
    "\n",
    "nlp = spacy.load(\"en_core_web_sm\")\n",
    "doc = nlp(u\"Apple is looking at buying U.K. startup for $1 billion\")\n",
    "\n",
    "entities = [ent for ent in doc.ents if ent.label_ == \"ORG\"]\n",
    "\n",
    "  \n",
    "\"\"\"\n",
    "We create a re.MatchObject and \n",
    "store it in  match_object variable, \n",
    "'()' parenthesis are used to define a \n",
    "specific group\n",
    "\"\"\"\n",
    "match_object = re.match(r'(\\d+)',\n",
    "                        '128935')\n",
    "  \n",
    "\"\"\" \n",
    "d in above pattern stands for numerical character\n",
    "+ is used to match a consecutive set of characters \n",
    "satisfying a given condition so d+ will match a\n",
    "consecutive set of numerical characters\n",
    "\"\"\"\n",
    "  \n",
    "# generating the tuple with the \n",
    "# starting and ending index\n",
    "print(match_object.span())"
   ]
  },
  {
   "cell_type": "code",
   "execution_count": 8,
   "metadata": {},
   "outputs": [
    {
     "data": {
      "text/plain": [
       "149.8000030517578"
      ]
     },
     "execution_count": 8,
     "metadata": {},
     "output_type": "execute_result"
    }
   ],
   "source": [
    "## \n",
    "# start_dt=dt.date(2021,3,1)\n",
    "# end_dt=dt.date(2021,4,1)\n",
    "# web.DataReader('tesla','yahoo',start_dt,end_dt)\n",
    "\n",
    "\n",
    "##\n",
    "si.get_live_price(\"aapl\")"
   ]
  },
  {
   "cell_type": "code",
   "execution_count": null,
   "metadata": {},
   "outputs": [],
   "source": []
  },
  {
   "cell_type": "code",
   "execution_count": 12,
   "metadata": {},
   "outputs": [
    {
     "data": {
      "text/plain": [
       "[{'symbol': 'CANBK',\n",
       "  'series': 'EQ',\n",
       "  'openPrice': 194.65,\n",
       "  'highPrice': 218.65,\n",
       "  'lowPrice': 191.1,\n",
       "  'ltp': 214.1,\n",
       "  'previousPrice': 195.4,\n",
       "  'netPrice': 9.57,\n",
       "  'tradedQuantity': 72268109.0,\n",
       "  'turnoverInLakhs': 151806.39,\n",
       "  'lastCorpAnnouncementDate': '26-Jul-2021',\n",
       "  'lastCorpAnnouncement': 'Annual General Meeting'},\n",
       " {'symbol': 'INDIGO',\n",
       "  'series': 'EQ',\n",
       "  'openPrice': 2000.0,\n",
       "  'highPrice': 2189.7,\n",
       "  'lowPrice': 1850.0,\n",
       "  'ltp': 2168.0,\n",
       "  'previousPrice': 1997.95,\n",
       "  'netPrice': 8.51,\n",
       "  'tradedQuantity': 5299099.0,\n",
       "  'turnoverInLakhs': 110921.27,\n",
       "  'lastCorpAnnouncementDate': '23-Aug-2021',\n",
       "  'lastCorpAnnouncement': 'Annual General Meeting'},\n",
       " {'symbol': 'MCDOWELL-N',\n",
       "  'series': 'EQ',\n",
       "  'openPrice': 898.9,\n",
       "  'highPrice': 963.4,\n",
       "  'lowPrice': 881.5,\n",
       "  'ltp': 951.05,\n",
       "  'previousPrice': 892.55,\n",
       "  'netPrice': 6.55,\n",
       "  'tradedQuantity': 9686157.0,\n",
       "  'turnoverInLakhs': 90764.13,\n",
       "  'lastCorpAnnouncementDate': '13-Aug-2019',\n",
       "  'lastCorpAnnouncement': 'Annual General Meeting'},\n",
       " {'symbol': 'NMDC',\n",
       "  'series': 'EQ',\n",
       "  'openPrice': 133.7,\n",
       "  'highPrice': 144.8,\n",
       "  'lowPrice': 133.6,\n",
       "  'ltp': 142.95,\n",
       "  'previousPrice': 134.55,\n",
       "  'netPrice': 6.24,\n",
       "  'tradedQuantity': 38951500.0,\n",
       "  'turnoverInLakhs': 55159.22,\n",
       "  'lastCorpAnnouncementDate': '23-Sep-2021',\n",
       "  'lastCorpAnnouncement': 'Annual General Meeting'},\n",
       " {'symbol': 'GUJGASLTD',\n",
       "  'series': 'EQ',\n",
       "  'openPrice': 584.75,\n",
       "  'highPrice': 626.1,\n",
       "  'lowPrice': 577.85,\n",
       "  'ltp': 625.0,\n",
       "  'previousPrice': 594.15,\n",
       "  'netPrice': 5.19,\n",
       "  'tradedQuantity': 2814790.0,\n",
       "  'turnoverInLakhs': 17136.16,\n",
       "  'lastCorpAnnouncementDate': '08-Sep-2021',\n",
       "  'lastCorpAnnouncement': 'Dividend - Rs 2 Per Share'},\n",
       " {'symbol': 'LUPIN',\n",
       "  'series': 'EQ',\n",
       "  'openPrice': 896.0,\n",
       "  'highPrice': 955.0,\n",
       "  'lowPrice': 881.25,\n",
       "  'ltp': 927.0,\n",
       "  'previousPrice': 881.75,\n",
       "  'netPrice': 5.13,\n",
       "  'tradedQuantity': 7118661.0,\n",
       "  'turnoverInLakhs': 66445.58,\n",
       "  'lastCorpAnnouncementDate': '27-Jul-2021',\n",
       "  'lastCorpAnnouncement': 'Dividend - Rs 6.50 Per Share'},\n",
       " {'symbol': 'RAMCOCEM',\n",
       "  'series': 'EQ',\n",
       "  'openPrice': 1020.3,\n",
       "  'highPrice': 1070.0,\n",
       "  'lowPrice': 994.8,\n",
       "  'ltp': 1068.0,\n",
       "  'previousPrice': 1020.45,\n",
       "  'netPrice': 4.66,\n",
       "  'tradedQuantity': 970306.0,\n",
       "  'turnoverInLakhs': 10159.88,\n",
       "  'lastCorpAnnouncementDate': '11-Aug-2021',\n",
       "  'lastCorpAnnouncement': 'Annual General Meeting'},\n",
       " {'symbol': 'APLLTD',\n",
       "  'series': 'EQ',\n",
       "  'openPrice': 747.95,\n",
       "  'highPrice': 783.5,\n",
       "  'lowPrice': 736.8,\n",
       "  'ltp': 778.0,\n",
       "  'previousPrice': 744.7,\n",
       "  'netPrice': 4.47,\n",
       "  'tradedQuantity': 277147.0,\n",
       "  'turnoverInLakhs': 2122.75,\n",
       "  'lastCorpAnnouncementDate': '19-Jul-2021',\n",
       "  'lastCorpAnnouncement': 'Annual General Meeting/Dividend - Rs 14 Per Share'},\n",
       " {'symbol': 'BIOCON',\n",
       "  'series': 'EQ',\n",
       "  'openPrice': 337.85,\n",
       "  'highPrice': 352.5,\n",
       "  'lowPrice': 335.5,\n",
       "  'ltp': 351.5,\n",
       "  'previousPrice': 337.85,\n",
       "  'netPrice': 4.04,\n",
       "  'tradedQuantity': 5793111.0,\n",
       "  'turnoverInLakhs': 20159.45,\n",
       "  'lastCorpAnnouncementDate': '18-Jul-2019',\n",
       "  'lastCorpAnnouncement': 'Dividend - Rs 0.50 Per Share'},\n",
       " {'symbol': 'VOLTAS',\n",
       "  'series': 'EQ',\n",
       "  'openPrice': 1155.3,\n",
       "  'highPrice': 1222.85,\n",
       "  'lowPrice': 1143.2,\n",
       "  'ltp': 1201.55,\n",
       "  'previousPrice': 1155.3,\n",
       "  'netPrice': 4.0,\n",
       "  'tradedQuantity': 2516853.0,\n",
       "  'turnoverInLakhs': 30212.81,\n",
       "  'lastCorpAnnouncementDate': '11-Aug-2021',\n",
       "  'lastCorpAnnouncement': 'Annual General Meeting/Dividend - Rs 5 Per Share'}]"
      ]
     },
     "execution_count": 12,
     "metadata": {},
     "output_type": "execute_result"
    }
   ],
   "source": [
    "\n",
    "# importing nse from nse tools\n",
    "from nsetools import Nse\n",
    " \n",
    "# creating a Nse object\n",
    "nse = Nse()\n",
    "\n",
    "\n",
    "# getting quote of the sbin\n",
    "quote = nse.get_quote('sbin')\n",
    "\n",
    "nse.get_top_fno_gainers()\n",
    "# # printing company name\n",
    "# print(quote['companyName'])\n"
   ]
  },
  {
   "cell_type": "code",
   "execution_count": null,
   "metadata": {},
   "outputs": [],
   "source": []
  },
  {
   "cell_type": "code",
   "execution_count": null,
   "metadata": {},
   "outputs": [],
   "source": []
  }
 ],
 "metadata": {
  "kernelspec": {
   "display_name": "Python 3",
   "language": "python",
   "name": "python3"
  },
  "language_info": {
   "codemirror_mode": {
    "name": "ipython",
    "version": 3
   },
   "file_extension": ".py",
   "mimetype": "text/x-python",
   "name": "python",
   "nbconvert_exporter": "python",
   "pygments_lexer": "ipython3",
   "version": "3.8.3"
  }
 },
 "nbformat": 4,
 "nbformat_minor": 5
}
