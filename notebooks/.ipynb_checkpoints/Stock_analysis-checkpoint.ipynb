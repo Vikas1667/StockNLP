{
 "cells": [
  {
   "cell_type": "code",
   "execution_count": 2,
   "metadata": {},
   "outputs": [
    {
     "name": "stderr",
     "output_type": "stream",
     "text": [
      "C:\\Users\\HP\\anaconda3\\lib\\site-packages\\numpy\\_distributor_init.py:30: UserWarning: loaded more than 1 DLL from .libs:\n",
      "C:\\Users\\HP\\anaconda3\\lib\\site-packages\\numpy\\.libs\\libopenblas.FB5AE2TYXYH2IJRDKGDGQ3XBKLKTF43H.gfortran-win_amd64.dll\n",
      "C:\\Users\\HP\\anaconda3\\lib\\site-packages\\numpy\\.libs\\libopenblas.QVLO2T66WEPI7JZ63PS3HMOHFEY472BC.gfortran-win_amd64.dll\n",
      "  warnings.warn(\"loaded more than 1 DLL from .libs:\"\n"
     ]
    }
   ],
   "source": [
    "# -*- coding: utf-8 -*-\n",
    "\"\"\"\n",
    "Created on 9/10/2022\n",
    "\n",
    "@author: raiak\n",
    "\"\"\"\n",
    "\n",
    "import requests\n",
    "from bs4 import BeautifulSoup\n",
    "import pandas as pd\n",
    "from datetime import datetime\n",
    "from dateutil.relativedelta import relativedelta, TH\n",
    "import matplotlib.pyplot as plt"
   ]
  },
  {
   "cell_type": "code",
   "execution_count": 3,
   "metadata": {},
   "outputs": [],
   "source": [
    "def optionChain (expirydate):\n",
    "\n",
    "    urlheader = {\n",
    "      \"User-Agent\": \"Mozilla/5.0 (Windows NT 10.0; Win64; x64) AppleWebKit/537.36 (KHTML, like Gecko) Chrome/77.0.3865.90 Safari/537.36\",\n",
    "      \"authority\": \"www.nseindia.com\",\n",
    "      \"scheme\":\"https\"\n",
    "    }\n",
    "    \n",
    "    url=\"https://www.nseindia.com/live_market/dynaContent/live_watch/option_chain/optionKeys.jsp?\"\n",
    "    params=\"segmentLink=17&instrument=OPTIDX&symbol=NIFTY&date=\"\n",
    "    #expirydate=\"3OCT2019\"\n",
    "    \n",
    "    url_encoded=url + params + expirydate\n",
    "    \n",
    "    req = requests.get(url_encoded, headers=urlheader)\n",
    "    soup = BeautifulSoup(req.content, \"lxml\")\n",
    "    table = soup.find('table', id=\"octable\")\n",
    "    \n",
    "    rows = table.findAll('tr')\n",
    "    header_text = []\n",
    "    headers = rows[1]\n",
    "    \n",
    "    remove_indices_for_put = [0,1,2,3,4,5,6,7,8,9,10,12,13,14,15,16,18,22]\n",
    "    remove_indices_for_call = [0,4,6,7,8,9,10,12,13,14,15,16,17,18,19,20,21,22]\n",
    "     # Creating an empty Dataframe with column names only\n",
    "    \n",
    "    \n",
    "    # add the header text to array\n",
    "    for th in headers.findAll('th'):\n",
    "        header_text.append(th.text)\n",
    "    \n",
    "    header_text = [i for j, i in enumerate(header_text) if j not in remove_indices_for_put]\n",
    "    df_call = pd.DataFrame(columns=header_text)\n",
    "    df_put = pd.DataFrame(columns=header_text)\n",
    "    \n",
    "    #row_text_array = []\n",
    "    for row in rows[2:-1]:\n",
    "        row_text = []\n",
    "        row_text_call = []\n",
    "        row_text_put = []\n",
    "        # loop through the elements\n",
    "        for row_element in row.findAll(['th', 'td']):\n",
    "            # append the array with the elements inner text\n",
    "            row_text.append(row_element.text.replace('\\n', '').strip())\n",
    "    \n",
    "        # append the text array to the row text array\n",
    "        row_text_put = [i for j, i in enumerate(row_text) if j not in remove_indices_for_put]\n",
    "        for i in range(len(row_text_put)):\n",
    "            if (row_text_put[i]=='-'):\n",
    "                row_text_put[i]=0\n",
    "            else:\n",
    "                row_text_put[i]=row_text_put[i].replace(',', '')\n",
    "                row_text_put[i]=float(row_text_put[i])\n",
    "        row_text_call = [i for j, i in enumerate(row_text) if j not in remove_indices_for_call]\n",
    "        row_call_temp=[None] * len(row_text_call)\n",
    "        for i in range(len(row_text_call)):       \n",
    "            if (row_text_call[i]=='-'):\n",
    "                row_call_temp[len(row_text_call)-i-1]=0\n",
    "            else:\n",
    "                row_text_call[i]=row_text_call[i].replace(',', '')\n",
    "                row_text_call[i]=float(row_text_call[i])\n",
    "                row_call_temp[len(row_text_call)-i-1]=row_text_call[i]\n",
    "        df_call = df_call.append(pd.Series(dict(zip(df_call.columns, row_call_temp))), ignore_index=True)\n",
    "        df_put = df_put.append(pd.Series(dict(zip(df_put.columns, row_text_put))), ignore_index=True)    \n",
    "        \n",
    "        \n",
    "    df_call['OI'] = pd.to_numeric(df_call['OI'])\n",
    "    df_call=df_call.nlargest(3, ['OI'])\n",
    "    df_call.set_index('Strike Price', inplace=True)\n",
    "    print(\"Top 3 Strike price of Call Option based on Open Interest for Expiry Date = \"+expirydate)\n",
    "    df_call=df_call.sort_index(axis = 0) \n",
    "    print(df_call)\n",
    "    \n",
    "   \n",
    "    df_call.plot.barh(title='Top 3 Call Option based on OI for Option Expiry = '+expirydate)\n",
    "    \n",
    " \n",
    "    \n",
    "    print(\"================================================================================\") \n",
    "    df_put['OI'] = pd.to_numeric(df_put['OI'])\n",
    "    df_put=df_put.nlargest(3, ['OI'])\n",
    "    df_put.set_index('Strike Price', inplace=True)\n",
    "    print(\"Top 3 Strike price of Put Option based on Open Interest for Expiry Date = \"+expirydate)\n",
    "    print(df_put)\n",
    "    df_put=df_put.sort_index(axis = 0) \n",
    "    df_put.plot.barh( title='Top 3 Put Option based on OI for Option Expiry = '+expirydate)\n",
    "    return(df_call,df_put)"
   ]
  },
  {
   "cell_type": "code",
   "execution_count": 4,
   "metadata": {},
   "outputs": [],
   "source": [
    "def nextThu_and_lastThu_expiry_date ():\n",
    "\n",
    "    todayte = datetime.today()\n",
    "    \n",
    "    cmon = todayte.month\n",
    "    if_month_next=(todayte + relativedelta(weekday=TH(1))).month\n",
    "    next_thursday_expiry=todayte + relativedelta(weekday=TH(1))\n",
    "   \n",
    "    if (if_month_next!=cmon):\n",
    "        month_last_thu_expiry= todayte + relativedelta(weekday=TH(5))\n",
    "        if (month_last_thu_expiry.month!=if_month_next):\n",
    "            month_last_thu_expiry= todayte + relativedelta(weekday=TH(4))\n",
    "    else:\n",
    "        for i in range(1, 7):\n",
    "            t = todayte + relativedelta(weekday=TH(i))\n",
    "            if t.month != cmon:\n",
    "                # since t is exceeded we need last one  which we can get by subtracting -2 since it is already a Thursday.\n",
    "                t = t + relativedelta(weekday=TH(-2))\n",
    "                month_last_thu_expiry=t\n",
    "                break\n",
    "    str_month_last_thu_expiry=str(int(month_last_thu_expiry.strftime(\"%d\")))+month_last_thu_expiry.strftime(\"%b\").upper()+month_last_thu_expiry.strftime(\"%Y\")\n",
    "    str_next_thursday_expiry=str(int(next_thursday_expiry.strftime(\"%d\")))+next_thursday_expiry.strftime(\"%b\").upper()+next_thursday_expiry.strftime(\"%Y\")\n",
    "    return (str_next_thursday_expiry,str_month_last_thu_expiry)"
   ]
  },
  {
   "cell_type": "code",
   "execution_count": 5,
   "metadata": {},
   "outputs": [
    {
     "name": "stdout",
     "output_type": "stream",
     "text": [
      "================================================================================\n",
      "Next Expiry Date = 15SEP2022\n",
      "================================================================================\n",
      "Month End Expiry Date = 29SEP2022\n",
      "================================================================================\n"
     ]
    }
   ],
   "source": [
    "str_next_thursday_expiry,str_month_last_thu_expiry=nextThu_and_lastThu_expiry_date()\n",
    "print(\"================================================================================\")\n",
    "print(\"Next Expiry Date = \" + str_next_thursday_expiry)\n",
    "print(\"================================================================================\")\n",
    "print(\"Month End Expiry Date = \" + str_month_last_thu_expiry)\n",
    "print(\"================================================================================\")"
   ]
  },
  {
   "cell_type": "code",
   "execution_count": null,
   "metadata": {},
   "outputs": [
    {
     "name": "stdout",
     "output_type": "stream",
     "text": [
      "Call/Put Option data of next Thursday expiry =  15SEP2022\n",
      "================================================================================\n"
     ]
    }
   ],
   "source": [
    "print(\"Call/Put Option data of next Thursday expiry =  \"+str_next_thursday_expiry)\n",
    "print(\"================================================================================\")\n",
    "df_call_near_expiry,df_put_near_expiry=optionChain(str_next_thursday_expiry)"
   ]
  },
  {
   "cell_type": "code",
   "execution_count": null,
   "metadata": {},
   "outputs": [],
   "source": [
    "print(\"================================================================================\")\n",
    "print(\"Call/Put Option data of last Thursday of a month expiry =  \"+str_month_last_thu_expiry)\n",
    "df_put_near_expiry,df_put_last_expiry=optionChain(str_month_last_thu_expiry)\n",
    "print(\"================================================================================\")"
   ]
  },
  {
   "cell_type": "code",
   "execution_count": 1,
   "metadata": {},
   "outputs": [
    {
     "name": "stdout",
     "output_type": "stream",
     "text": [
      "Looking in indexes: https://pypi.org/simple, https://pypi.ngc.nvidia.com\n",
      "Requirement already satisfied: yfinance in c:\\users\\hp\\anaconda3\\lib\\site-packages (0.1.70)\n",
      "Requirement already satisfied: lxml>=4.5.1 in c:\\users\\hp\\anaconda3\\lib\\site-packages (from yfinance) (4.5.2)"
     ]
    },
    {
     "name": "stderr",
     "output_type": "stream",
     "text": [
      "WARNING: Ignoring invalid distribution -umpy (c:\\users\\hp\\anaconda3\\lib\\site-packages)\n",
      "WARNING: Ignoring invalid distribution -umpy (c:\\users\\hp\\anaconda3\\lib\\site-packages)\n",
      "WARNING: Ignoring invalid distribution -umpy (c:\\users\\hp\\anaconda3\\lib\\site-packages)\n",
      "WARNING: Ignoring invalid distribution -umpy (c:\\users\\hp\\anaconda3\\lib\\site-packages)\n",
      "WARNING: Ignoring invalid distribution -umpy (c:\\users\\hp\\anaconda3\\lib\\site-packages)\n",
      "WARNING: Ignoring invalid distribution -umpy (c:\\users\\hp\\anaconda3\\lib\\site-packages)\n",
      "WARNING: You are using pip version 21.3.1; however, version 22.2.2 is available.\n",
      "You should consider upgrading via the 'C:\\Users\\HP\\anaconda3\\python.exe -m pip install --upgrade pip' command.\n"
     ]
    },
    {
     "name": "stdout",
     "output_type": "stream",
     "text": [
      "\n",
      "Requirement already satisfied: numpy>=1.15 in c:\\users\\hp\\anaconda3\\lib\\site-packages (from yfinance) (1.23.1)\n",
      "Requirement already satisfied: requests>=2.26 in c:\\users\\hp\\anaconda3\\lib\\site-packages (from yfinance) (2.28.1)\n",
      "Requirement already satisfied: pandas>=0.24.0 in c:\\users\\hp\\appdata\\roaming\\python\\python38\\site-packages (from yfinance) (1.3.2)\n",
      "Requirement already satisfied: multitasking>=0.0.7 in c:\\users\\hp\\anaconda3\\lib\\site-packages (from yfinance) (0.0.10)\n",
      "Requirement already satisfied: python-dateutil>=2.7.3 in c:\\users\\hp\\anaconda3\\lib\\site-packages (from pandas>=0.24.0->yfinance) (2.8.1)\n",
      "Requirement already satisfied: pytz>=2017.3 in c:\\users\\hp\\anaconda3\\lib\\site-packages (from pandas>=0.24.0->yfinance) (2020.1)\n",
      "Requirement already satisfied: six>=1.5 in c:\\users\\hp\\anaconda3\\lib\\site-packages (from python-dateutil>=2.7.3->pandas>=0.24.0->yfinance) (1.16.0)\n",
      "Requirement already satisfied: charset-normalizer<3,>=2 in c:\\users\\hp\\anaconda3\\lib\\site-packages (from requests>=2.26->yfinance) (2.1.0)\n",
      "Requirement already satisfied: urllib3<1.27,>=1.21.1 in c:\\users\\hp\\anaconda3\\lib\\site-packages (from requests>=2.26->yfinance) (1.26.10)\n",
      "Requirement already satisfied: idna<4,>=2.5 in c:\\users\\hp\\anaconda3\\lib\\site-packages (from requests>=2.26->yfinance) (3.3)\n",
      "Requirement already satisfied: certifi>=2017.4.17 in c:\\users\\hp\\anaconda3\\lib\\site-packages (from requests>=2.26->yfinance) (2022.6.15)\n",
      "Looking in indexes: https://pypi.org/simple, https://pypi.ngc.nvidia.com\n",
      "Collecting mpl_finance\n",
      "  Downloading mpl_finance-0.10.1-py3-none-any.whl (8.4 kB)\n",
      "Requirement already satisfied: matplotlib in c:\\users\\hp\\anaconda3\\lib\\site-packages (from mpl_finance) (3.2.2)\n",
      "Requirement already satisfied: kiwisolver>=1.0.1 in c:\\users\\hp\\anaconda3\\lib\\site-packages (from matplotlib->mpl_finance) (1.2.0)\n",
      "Requirement already satisfied: pyparsing!=2.0.4,!=2.1.2,!=2.1.6,>=2.0.1 in c:\\users\\hp\\anaconda3\\lib\\site-packages (from matplotlib->mpl_finance) (3.0.9)\n"
     ]
    },
    {
     "name": "stderr",
     "output_type": "stream",
     "text": [
      "WARNING: Ignoring invalid distribution -umpy (c:\\users\\hp\\anaconda3\\lib\\site-packages)\n",
      "WARNING: Ignoring invalid distribution -umpy (c:\\users\\hp\\anaconda3\\lib\\site-packages)\n",
      "WARNING: Ignoring invalid distribution -umpy (c:\\users\\hp\\anaconda3\\lib\\site-packages)\n",
      "WARNING: Ignoring invalid distribution -umpy (c:\\users\\hp\\anaconda3\\lib\\site-packages)\n",
      "WARNING: Ignoring invalid distribution -umpy (c:\\users\\hp\\anaconda3\\lib\\site-packages)\n",
      "WARNING: Ignoring invalid distribution -umpy (c:\\users\\hp\\anaconda3\\lib\\site-packages)\n",
      "WARNING: Ignoring invalid distribution -umpy (c:\\users\\hp\\anaconda3\\lib\\site-packages)\n",
      "WARNING: You are using pip version 21.3.1; however, version 22.2.2 is available.\n",
      "You should consider upgrading via the 'C:\\Users\\HP\\anaconda3\\python.exe -m pip install --upgrade pip' command.\n"
     ]
    },
    {
     "name": "stdout",
     "output_type": "stream",
     "text": [
      "Requirement already satisfied: numpy>=1.11 in c:\\users\\hp\\anaconda3\\lib\\site-packages (from matplotlib->mpl_finance) (1.23.1)\n",
      "Requirement already satisfied: python-dateutil>=2.1 in c:\\users\\hp\\anaconda3\\lib\\site-packages (from matplotlib->mpl_finance) (2.8.1)\n",
      "Requirement already satisfied: cycler>=0.10 in c:\\users\\hp\\anaconda3\\lib\\site-packages (from matplotlib->mpl_finance) (0.10.0)\n",
      "Requirement already satisfied: six in c:\\users\\hp\\anaconda3\\lib\\site-packages (from cycler>=0.10->matplotlib->mpl_finance) (1.16.0)\n",
      "Installing collected packages: mpl-finance\n",
      "Successfully installed mpl-finance-0.10.1\n"
     ]
    }
   ],
   "source": [
    "!pip install yfinance\n",
    "!pip install mpl_finance"
   ]
  },
  {
   "cell_type": "code",
   "execution_count": 2,
   "metadata": {},
   "outputs": [
    {
     "name": "stderr",
     "output_type": "stream",
     "text": [
      "C:\\Users\\HP\\anaconda3\\lib\\site-packages\\numpy\\_distributor_init.py:30: UserWarning: loaded more than 1 DLL from .libs:\n",
      "C:\\Users\\HP\\anaconda3\\lib\\site-packages\\numpy\\.libs\\libopenblas.FB5AE2TYXYH2IJRDKGDGQ3XBKLKTF43H.gfortran-win_amd64.dll\n",
      "C:\\Users\\HP\\anaconda3\\lib\\site-packages\\numpy\\.libs\\libopenblas.QVLO2T66WEPI7JZ63PS3HMOHFEY472BC.gfortran-win_amd64.dll\n",
      "  warnings.warn(\"loaded more than 1 DLL from .libs:\"\n",
      "C:\\Users\\HP\\anaconda3\\lib\\site-packages\\mpl_finance.py:16: DeprecationWarning: \n",
      "\n",
      "  =================================================================\n",
      "\n",
      "   WARNING: `mpl_finance` is deprecated:\n",
      "\n",
      "    Please use `mplfinance` instead (no hyphen, no underscore).\n",
      "\n",
      "    To install: `pip install --upgrade mplfinance` \n",
      "\n",
      "   For more information, see: https://pypi.org/project/mplfinance/\n",
      "\n",
      "  =================================================================\n",
      "\n",
      "  __warnings.warn('\\n\\n  ================================================================='+\n"
     ]
    }
   ],
   "source": [
    "import pandas as pd\n",
    "import numpy as np\n",
    "import yfinance\n",
    "from mpl_finance import candlestick_ohlc\n",
    "import matplotlib.dates as mpl_dates\n",
    "import matplotlib.pyplot as plt\n",
    "plt.rcParams['figure.figsize'] = [12, 7]\n",
    "plt.rc('font', size=14)\n"
   ]
  },
  {
   "cell_type": "code",
   "execution_count": 30,
   "metadata": {},
   "outputs": [],
   "source": [
    "name = '^NSEI'\n",
    "ticker = yfinance.Ticker(name)\n"
   ]
  },
  {
   "cell_type": "code",
   "execution_count": 34,
   "metadata": {},
   "outputs": [
    {
     "name": "stdout",
     "output_type": "stream",
     "text": [
      "- NSEI: No data found, symbol may be delisted\n"
     ]
    }
   ],
   "source": [
    "df = ticker.history(interval=\"1d\",start=\"2022-08-12\", end=\"2022-09-10\")\n",
    "\n",
    "# df['Date'] = pd.to_datetime(df.index)\n",
    "# df['Date'] = df['Date'].apply(mpl_dates.date2num)\n",
    "# df = df.loc[:,['Date', 'Open', 'High', 'Low', 'Close']]\n",
    "# df"
   ]
  },
  {
   "cell_type": "code",
   "execution_count": 27,
   "metadata": {},
   "outputs": [],
   "source": [
    "def isSupport(df,i):\n",
    "    support = df['Low'][i] < df['Low'][i-1]  and df['Low'][i] < df['Low'][i+1] and df['Low'][i+1] < df['Low'][i+2] and df['Low'][i-1] < df['Low'][i-2]\n",
    "    return support\n",
    "def isResistance(df,i):\n",
    "    resistance = df['High'][i] > df['High'][i-1]  and df['High'][i] > df['High'][i+1] and df['High'][i+1] > df['High'][i+2] and df['High'][i-1] > df['High'][i-2]\n",
    "    return resistance"
   ]
  },
  {
   "cell_type": "code",
   "execution_count": 28,
   "metadata": {},
   "outputs": [],
   "source": [
    "levels = []\n",
    "for i in range(2,df.shape[0]-2):\n",
    "    if isSupport(df,i):\n",
    "        levels.append((i,df['Low'][i]))\n",
    "    elif isResistance(df,i):\n",
    "        levels.append((i,df['High'][i]))"
   ]
  },
  {
   "cell_type": "code",
   "execution_count": 29,
   "metadata": {},
   "outputs": [
    {
     "name": "stderr",
     "output_type": "stream",
     "text": [
      "<ipython-input-29-b290c2a77590>:10: UserWarning: Matplotlib is currently using module://ipykernel.pylab.backend_inline, which is a non-GUI backend, so cannot show the figure.\n",
      "  fig.show()\n"
     ]
    },
    {
     "data": {
      "image/png": "[encoded data removed]",
      "text/plain": [
       "<Figure size 864x504 with 1 Axes>"
      ]
     },
     "metadata": {
      "needs_background": "light"
     },
     "output_type": "display_data"
    }
   ],
   "source": [
    "def plot_all():\n",
    "    fig, ax = plt.subplots()\n",
    "    candlestick_ohlc(ax,df.values,width=0.6, colorup='green', colordown='red', alpha=0.8)\n",
    "    date_format = mpl_dates.DateFormatter('%d %b %Y')\n",
    "    ax.xaxis.set_major_formatter(date_format)\n",
    "    fig.autofmt_xdate()\n",
    "    fig.tight_layout()\n",
    "    for level in levels:\n",
    "        plt.hlines(level[1],xmin=df['Date'][level[0]],xmax=max(df['Date']),colors='blue',label='support_and_resistance')\n",
    "    fig.show()\n",
    "plot_all()"
   ]
  },
  {
   "cell_type": "code",
   "execution_count": 9,
   "metadata": {},
   "outputs": [],
   "source": [
    "s =  np.mean(df['High'] - df['Low'])"
   ]
  },
  {
   "cell_type": "code",
   "execution_count": 16,
   "metadata": {},
   "outputs": [],
   "source": [
    "def isFarFromLevel(l):\n",
    "    return np.sum([abs(l-x) < s  for x in levels]) == 0"
   ]
  },
  {
   "cell_type": "code",
   "execution_count": 17,
   "metadata": {},
   "outputs": [],
   "source": [
    "levels = []\n",
    "for i in range(2,df.shape[0]-2):\n",
    "  if isSupport(df,i):\n",
    "    l = df['Low'][i]\n",
    "    if isFarFromLevel(l):\n",
    "      levels.append((i,l))\n",
    "  elif isResistance(df,i):\n",
    "    l = df['High'][i]\n",
    "    if isFarFromLevel(l):\n",
    "      levels.append((i,l))"
   ]
  },
  {
   "cell_type": "code",
   "execution_count": 1,
   "metadata": {},
   "outputs": [],
   "source": [
    "\n",
    "from nsepy import get_history"
   ]
  },
  {
   "cell_type": "code",
   "execution_count": null,
   "metadata": {},
   "outputs": [],
   "source": []
  },
  {
   "cell_type": "code",
   "execution_count": null,
   "metadata": {},
   "outputs": [],
   "source": [
    "## real time stock predictor "
   ]
  },
  {
   "cell_type": "code",
   "execution_count": 38,
   "metadata": {},
   "outputs": [],
   "source": [
    "#Import the libraries\n",
    "import math\n",
    "import pandas_datareader as web\n",
    "import numpy as np\n",
    "import pandas as pd\n",
    "from sklearn.preprocessing import MinMaxScaler\n",
    "# from keras.models import Sequential\n",
    "# from keras.layers import Dense, LSTM\n",
    "import matplotlib.pyplot as plt\n",
    "plt.style.use('fivethirtyeight')\n",
    "# from nsepy import get_history\n",
    "from datetime import date"
   ]
  },
  {
   "cell_type": "code",
   "execution_count": null,
   "metadata": {},
   "outputs": [],
   "source": [
    "# Raw Package\n",
    "import numpy as np\n",
    "import pandas as pd\n",
    "\n",
    "#Data Source\n",
    "import yfinance as yf\n",
    "\n",
    "#Data viz\n",
    "import plotly.graph_objs as go\n",
    "\n",
    "#Interval required 1 minute\n",
    "data = yf.download(tickers='UBER', period='1d', interval='1m')\n",
    "\n",
    "#declare figure\n",
    "fig = go.Figure()\n",
    "\n",
    "#Candlestick\n",
    "fig.add_trace(go.Candlestick(x=data.index,\n",
    "                open=data['Open'],\n",
    "                high=data['High'],\n",
    "                low=data['Low'],\n",
    "                close=data['Close'], name = 'market data'))\n",
    "\n",
    "# Add titles\n",
    "fig.update_layout(\n",
    "    title='Uber live share price evolution',\n",
    "    yaxis_title='Stock Price (USD per Shares)')\n",
    "\n",
    "# X-Axes\n",
    "fig.update_xaxes(\n",
    "    rangeslider_visible=True,\n",
    "    rangeselector=dict(\n",
    "        buttons=list([\n",
    "            dict(count=15, label=\"15m\", step=\"minute\", stepmode=\"backward\"),\n",
    "            dict(count=45, label=\"45m\", step=\"minute\", stepmode=\"backward\"),\n",
    "            dict(count=1, label=\"HTD\", step=\"hour\", stepmode=\"todate\"),\n",
    "            dict(count=3, label=\"3h\", step=\"hour\", stepmode=\"backward\"),\n",
    "            dict(step=\"all\")\n",
    "        ])\n",
    "    )\n",
    ")\n",
    "\n",
    "#Show\n",
    "fig.show()"
   ]
  },
  {
   "cell_type": "code",
   "execution_count": 1,
   "metadata": {},
   "outputs": [
    {
     "name": "stdout",
     "output_type": "stream",
     "text": [
      "nifty\n",
      "banknifty\n",
      "\u001bc\n",
      "\u001b[93m ---------------------------------------------------------------------|\u001b[00m\n",
      "\u001b[95m Nifty        => \u001b[00m\u001b[94m  Last Price: \u001b[00m\u001b[1m 17833.35\u001b[0m\u001b[94m  Nearest Strike: \u001b[00m\u001b[1m 17850\u001b[0m\n",
      "\u001b[93m ---------------------------------------------------------------------|\u001b[00m\n",
      "15-Sep-2022 17350 CE [ \u001b[1m        197\u001b[0m ] PE [ \u001b[1m      16858\u001b[0m ]\n",
      "15-Sep-2022 17400 CE [ \u001b[1m       1665\u001b[0m ] PE [ \u001b[1m      48702\u001b[0m ]\n",
      "15-Sep-2022 17450 CE [ \u001b[1m        208\u001b[0m ] PE [ \u001b[1m      15207\u001b[0m ]\n",
      "15-Sep-2022 17500 CE [ \u001b[1m       6571\u001b[0m ] PE [ \u001b[1m      85360\u001b[0m ]\n",
      "15-Sep-2022 17550 CE [ \u001b[1m       1208\u001b[0m ] PE [ \u001b[1m      15986\u001b[0m ]\n",
      "15-Sep-2022 17600 CE [ \u001b[1m      10481\u001b[0m ] PE [ \u001b[1m      73617\u001b[0m ]\n",
      "15-Sep-2022 17650 CE [ \u001b[1m       3233\u001b[0m ] PE [ \u001b[1m      22021\u001b[0m ]\n",
      "15-Sep-2022 17700 CE [ \u001b[1m      23108\u001b[0m ] PE [ \u001b[1m      81901\u001b[0m ]\n",
      "15-Sep-2022 17750 CE [ \u001b[1m       8677\u001b[0m ] PE [ \u001b[1m      19103\u001b[0m ]\n",
      "15-Sep-2022 17800 CE [ \u001b[1m      72613\u001b[0m ] PE [ \u001b[1m      75972\u001b[0m ]\n",
      "15-Sep-2022 17850 CE [ \u001b[1m      28882\u001b[0m ] PE [ \u001b[1m      22920\u001b[0m ]\n",
      "15-Sep-2022 17900 CE [ \u001b[1m     124765\u001b[0m ] PE [ \u001b[1m      69871\u001b[0m ]\n",
      "15-Sep-2022 17950 CE [ \u001b[1m      30137\u001b[0m ] PE [ \u001b[1m       9696\u001b[0m ]\n",
      "15-Sep-2022 18000 CE [ \u001b[1m     139322\u001b[0m ] PE [ \u001b[1m      20368\u001b[0m ]\n",
      "15-Sep-2022 18050 CE [ \u001b[1m      23525\u001b[0m ] PE [ \u001b[1m        610\u001b[0m ]\n",
      "15-Sep-2022 18100 CE [ \u001b[1m      74381\u001b[0m ] PE [ \u001b[1m       3174\u001b[0m ]\n",
      "15-Sep-2022 18150 CE [ \u001b[1m      19918\u001b[0m ] PE [ \u001b[1m        399\u001b[0m ]\n",
      "15-Sep-2022 18200 CE [ \u001b[1m      80894\u001b[0m ] PE [ \u001b[1m       1553\u001b[0m ]\n",
      "15-Sep-2022 18250 CE [ \u001b[1m      34752\u001b[0m ] PE [ \u001b[1m        297\u001b[0m ]\n",
      "15-Sep-2022 18300 CE [ \u001b[1m      71730\u001b[0m ] PE [ \u001b[1m        472\u001b[0m ]\n",
      "\u001b[93m ---------------------------------------------------------------------|\u001b[00m\n",
      "\u001b[95m Bank Nifty   => \u001b[00m\u001b[94m  Last Price: \u001b[00m\u001b[1m 40415.7\u001b[0m\u001b[94m  Nearest Strike: \u001b[00m\u001b[1m 40500\u001b[0m\n",
      "\u001b[93m ---------------------------------------------------------------------|\u001b[00m\n",
      "15-Sep-2022 39500 CE [ \u001b[1m       8175\u001b[0m ] PE [ \u001b[1m      74436\u001b[0m ]\n",
      "15-Sep-2022 39600 CE [ \u001b[1m       1228\u001b[0m ] PE [ \u001b[1m      18780\u001b[0m ]\n",
      "15-Sep-2022 39700 CE [ \u001b[1m       1407\u001b[0m ] PE [ \u001b[1m      16578\u001b[0m ]\n",
      "15-Sep-2022 39800 CE [ \u001b[1m       2702\u001b[0m ] PE [ \u001b[1m      19114\u001b[0m ]\n",
      "15-Sep-2022 39900 CE [ \u001b[1m       3268\u001b[0m ] PE [ \u001b[1m      16270\u001b[0m ]\n",
      "15-Sep-2022 40000 CE [ \u001b[1m      22822\u001b[0m ] PE [ \u001b[1m      66172\u001b[0m ]\n",
      "15-Sep-2022 40100 CE [ \u001b[1m       4956\u001b[0m ] PE [ \u001b[1m      15811\u001b[0m ]\n",
      "15-Sep-2022 40200 CE [ \u001b[1m      14976\u001b[0m ] PE [ \u001b[1m      33567\u001b[0m ]\n",
      "15-Sep-2022 40300 CE [ \u001b[1m      13101\u001b[0m ] PE [ \u001b[1m      17000\u001b[0m ]\n",
      "15-Sep-2022 40400 CE [ \u001b[1m      23063\u001b[0m ] PE [ \u001b[1m      24469\u001b[0m ]\n",
      "15-Sep-2022 40500 CE [ \u001b[1m     109597\u001b[0m ] PE [ \u001b[1m      57512\u001b[0m ]\n",
      "15-Sep-2022 40600 CE [ \u001b[1m      49350\u001b[0m ] PE [ \u001b[1m      12339\u001b[0m ]\n",
      "15-Sep-2022 40700 CE [ \u001b[1m      36910\u001b[0m ] PE [ \u001b[1m       7471\u001b[0m ]\n",
      "15-Sep-2022 40800 CE [ \u001b[1m      31438\u001b[0m ] PE [ \u001b[1m       3698\u001b[0m ]\n",
      "15-Sep-2022 40900 CE [ \u001b[1m      25603\u001b[0m ] PE [ \u001b[1m       1608\u001b[0m ]\n",
      "15-Sep-2022 41000 CE [ \u001b[1m      71178\u001b[0m ] PE [ \u001b[1m       5596\u001b[0m ]\n",
      "15-Sep-2022 41100 CE [ \u001b[1m      17869\u001b[0m ] PE [ \u001b[1m       1291\u001b[0m ]\n",
      "15-Sep-2022 41200 CE [ \u001b[1m      34631\u001b[0m ] PE [ \u001b[1m       1279\u001b[0m ]\n",
      "15-Sep-2022 41300 CE [ \u001b[1m      16527\u001b[0m ] PE [ \u001b[1m        396\u001b[0m ]\n",
      "15-Sep-2022 41400 CE [ \u001b[1m      19774\u001b[0m ] PE [ \u001b[1m        220\u001b[0m ]\n",
      "\u001b[93m ---------------------------------------------------------------------|\u001b[00m\n",
      "\u001b[96m Major Support in Nifty:\u001b[00m18000\n",
      "\u001b[96m Major Resistance in Nifty:\u001b[00m17500\n",
      "\u001b[95m Major Support in Bank Nifty:\u001b[00m40500\n",
      "\u001b[95m Major Resistance in Bank Nifty:\u001b[00m39500\n"
     ]
    }
   ],
   "source": [
    "# Libraries\n",
    "import requests\n",
    "import json\n",
    "import math\n",
    "\n",
    "# Python program to print\n",
    "# colored text and background\n",
    "def strRed(skk):         return \"\\033[91m {}\\033[00m\".format(skk)\n",
    "def strGreen(skk):       return \"\\033[92m {}\\033[00m\".format(skk)\n",
    "def strYellow(skk):      return \"\\033[93m {}\\033[00m\".format(skk)\n",
    "def strLightPurple(skk): return \"\\033[94m {}\\033[00m\".format(skk)\n",
    "def strPurple(skk):      return \"\\033[95m {}\\033[00m\".format(skk)\n",
    "def strCyan(skk):        return \"\\033[96m {}\\033[00m\".format(skk)\n",
    "def strLightGray(skk):   return \"\\033[97m {}\\033[00m\".format(skk)\n",
    "def strBlack(skk):       return \"\\033[98m {}\\033[00m\".format(skk)\n",
    "def strBold(skk):        return \"\\033[1m {}\\033[0m\".format(skk)\n",
    "\n",
    "# Method to get nearest strikes\n",
    "def round_nearest(x,num=50): return int(math.ceil(float(x)/num)*num)\n",
    "def nearest_strike_bnf(x): return round_nearest(x,100)\n",
    "def nearest_strike_nf(x): return round_nearest(x,50)\n",
    "\n",
    "# Urls for fetching Data\n",
    "url_oc      = \"https://www.nseindia.com/option-chain\"\n",
    "url_bnf     = 'https://www.nseindia.com/api/option-chain-indices?symbol=BANKNIFTY'\n",
    "url_nf      = 'https://www.nseindia.com/api/option-chain-indices?symbol=NIFTY'\n",
    "url_indices = \"https://www.nseindia.com/api/allIndices\"\n",
    "\n",
    "# Headers\n",
    "headers = {'user-agent': 'Mozilla/5.0 (Windows NT 10.0; Win64; x64) AppleWebKit/537.36 (KHTML, like Gecko) Chrome/80.0.3987.149 Safari/537.36',\n",
    "            'accept-language': 'en,gu;q=0.9,hi;q=0.8',\n",
    "            'accept-encoding': 'gzip, deflate, br'}\n",
    "\n",
    "sess = requests.Session()\n",
    "cookies = dict()\n",
    "\n",
    "# Local methods\n",
    "def set_cookie():\n",
    "    request = sess.get(url_oc, headers=headers, timeout=5)\n",
    "    cookies = dict(request.cookies)\n",
    "\n",
    "def get_data(url):\n",
    "    set_cookie()\n",
    "    response = sess.get(url, headers=headers, timeout=5, cookies=cookies)\n",
    "    if(response.status_code==401):\n",
    "        set_cookie()\n",
    "        response = sess.get(url_nf, headers=headers, timeout=5, cookies=cookies)\n",
    "    if(response.status_code==200):\n",
    "        return response.text\n",
    "    return \"\"\n",
    "\n",
    "def set_header():\n",
    "    global bnf_ul\n",
    "    global nf_ul\n",
    "    global bnf_nearest\n",
    "    global nf_nearest\n",
    "    response_text = get_data(url_indices)\n",
    "    data = json.loads(response_text)\n",
    "    for index in data[\"data\"]:\n",
    "        if index[\"index\"]==\"NIFTY 50\":\n",
    "            nf_ul = index[\"last\"]\n",
    "            print(\"nifty\")\n",
    "        if index[\"index\"]==\"NIFTY BANK\":\n",
    "            bnf_ul = index[\"last\"]\n",
    "            print(\"banknifty\")\n",
    "    bnf_nearest=nearest_strike_bnf(bnf_ul)\n",
    "    nf_nearest=nearest_strike_nf(nf_ul)\n",
    "\n",
    "# Showing Header in structured format with Last Price and Nearest Strike\n",
    "\n",
    "def print_header(index=\"\",ul=0,nearest=0):\n",
    "    print(strPurple( index.ljust(12,\" \") + \" => \")+ strLightPurple(\" Last Price: \") + strBold(str(ul)) + strLightPurple(\" Nearest Strike: \") + strBold(str(nearest)))\n",
    "\n",
    "def print_hr():\n",
    "    print(strYellow(\"|\".rjust(70,\"-\")))\n",
    "\n",
    "# Fetching CE and PE data based on Nearest Expiry Date\n",
    "def print_oi(num,step,nearest,url):\n",
    "    strike = nearest - (step*num)\n",
    "    start_strike = nearest - (step*num)\n",
    "    response_text = get_data(url)\n",
    "    data = json.loads(response_text)\n",
    "    currExpiryDate = data[\"records\"][\"expiryDates\"][0]\n",
    "    for item in data['records']['data']:\n",
    "        if item[\"expiryDate\"] == currExpiryDate:\n",
    "            if item[\"strikePrice\"] == strike and item[\"strikePrice\"] < start_strike+(step*num*2):\n",
    "                #print(strCyan(str(item[\"strikePrice\"])) + strGreen(\" CE \") + \"[ \" + strBold(str(item[\"CE\"][\"openInterest\"]).rjust(10,\" \")) + \" ]\" + strRed(\" PE \")+\"[ \" + strBold(str(item[\"PE\"][\"openInterest\"]).rjust(10,\" \")) + \" ]\")\n",
    "                print(data[\"records\"][\"expiryDates\"][0] + \" \" + str(item[\"strikePrice\"]) + \" CE \" + \"[ \" + strBold(str(item[\"CE\"][\"openInterest\"]).rjust(10,\" \")) + \" ]\" + \" PE \" + \"[ \" + strBold(str(item[\"PE\"][\"openInterest\"]).rjust(10,\" \")) + \" ]\")\n",
    "                strike = strike + step\n",
    "\n",
    "# Finding highest Open Interest of People's in CE based on CE data         \n",
    "def highest_oi_CE(num,step,nearest,url):\n",
    "    strike = nearest - (step*num)\n",
    "    start_strike = nearest - (step*num)\n",
    "    response_text = get_data(url)\n",
    "    data = json.loads(response_text)\n",
    "    currExpiryDate = data[\"records\"][\"expiryDates\"][0]\n",
    "    max_oi = 0\n",
    "    max_oi_strike = 0\n",
    "    for item in data['records']['data']:\n",
    "        if item[\"expiryDate\"] == currExpiryDate:\n",
    "            if item[\"strikePrice\"] == strike and item[\"strikePrice\"] < start_strike+(step*num*2):\n",
    "                if item[\"CE\"][\"openInterest\"] > max_oi:\n",
    "                    max_oi = item[\"CE\"][\"openInterest\"]\n",
    "                    max_oi_strike = item[\"strikePrice\"]\n",
    "                strike = strike + step\n",
    "    return max_oi_strike\n",
    "\n",
    "# Finding highest Open Interest of People's in PE based on PE data \n",
    "def highest_oi_PE(num,step,nearest,url):\n",
    "    strike = nearest - (step*num)\n",
    "    start_strike = nearest - (step*num)\n",
    "    response_text = get_data(url)\n",
    "    data = json.loads(response_text)\n",
    "    currExpiryDate = data[\"records\"][\"expiryDates\"][0]\n",
    "    max_oi = 0\n",
    "    max_oi_strike = 0\n",
    "    for item in data['records']['data']:\n",
    "        if item[\"expiryDate\"] == currExpiryDate:\n",
    "            if item[\"strikePrice\"] == strike and item[\"strikePrice\"] < start_strike+(step*num*2):\n",
    "                if item[\"PE\"][\"openInterest\"] > max_oi:\n",
    "                    max_oi = item[\"PE\"][\"openInterest\"]\n",
    "                    max_oi_strike = item[\"strikePrice\"]\n",
    "                strike = strike + step\n",
    "    return max_oi_strike\n",
    "\n",
    "set_header()\n",
    "print('\\033c')\n",
    "print_hr()\n",
    "print_header(\"Nifty\",nf_ul,nf_nearest)\n",
    "print_hr()\n",
    "print_oi(10,50,nf_nearest,url_nf)\n",
    "print_hr()\n",
    "print_header(\"Bank Nifty\",bnf_ul,bnf_nearest)\n",
    "print_hr()\n",
    "print_oi(10,100,bnf_nearest,url_bnf)\n",
    "print_hr()\n",
    "\n",
    "# Finding Highest OI in Call Option In Nifty\n",
    "nf_highestoi_CE = highest_oi_CE(10,50,nf_nearest,url_nf)\n",
    "\n",
    "# Finding Highet OI in Put Option In Nifty\n",
    "nf_highestoi_PE = highest_oi_PE(10,50,nf_nearest,url_nf)\n",
    "\n",
    "# Finding Highest OI in Call Option In Bank Nifty\n",
    "bnf_highestoi_CE = highest_oi_CE(10,100,bnf_nearest,url_bnf)\n",
    "\n",
    "# Finding Highest OI in Put Option In Bank Nifty\n",
    "bnf_highestoi_PE = highest_oi_PE(10,100,bnf_nearest,url_bnf)\n",
    "\n",
    "\n",
    "print(strCyan(str(\"Major Support in Nifty:\")) + str(nf_highestoi_CE))\n",
    "print(strCyan(str(\"Major Resistance in Nifty:\")) + str(nf_highestoi_PE))\n",
    "print(strPurple(str(\"Major Support in Bank Nifty:\")) + str(bnf_highestoi_CE))\n",
    "print(strPurple(str(\"Major Resistance in Bank Nifty:\")) + str(bnf_highestoi_PE))\n",
    "\n"
   ]
  },
  {
   "cell_type": "code",
   "execution_count": 5,
   "metadata": {},
   "outputs": [],
   "source": [
    "# !pip install chromedriver"
   ]
  },
  {
   "cell_type": "code",
   "execution_count": 6,
   "metadata": {},
   "outputs": [
    {
     "ename": "RuntimeError",
     "evalue": "This package supports only Linux, MacOSX or Windows platforms",
     "output_type": "error",
     "traceback": [
      "\u001b[1;31m---------------------------------------------------------------------------\u001b[0m",
      "\u001b[1;31mRuntimeError\u001b[0m                              Traceback (most recent call last)",
      "\u001b[1;32m~\\AppData\\Local\\Temp/ipykernel_7588/3626752691.py\u001b[0m in \u001b[0;36m<module>\u001b[1;34m\u001b[0m\n\u001b[1;32m----> 1\u001b[1;33m \u001b[1;32mimport\u001b[0m \u001b[0mchromedriver\u001b[0m \u001b[1;32mas\u001b[0m \u001b[0muc\u001b[0m\u001b[1;33m\u001b[0m\u001b[1;33m\u001b[0m\u001b[0m\n\u001b[0m\u001b[0;32m      2\u001b[0m \u001b[1;32mimport\u001b[0m \u001b[0mtime\u001b[0m\u001b[1;33m\u001b[0m\u001b[1;33m\u001b[0m\u001b[0m\n\u001b[0;32m      3\u001b[0m \u001b[1;32mimport\u001b[0m \u001b[0mdatetime\u001b[0m\u001b[1;33m\u001b[0m\u001b[1;33m\u001b[0m\u001b[0m\n\u001b[0;32m      4\u001b[0m \u001b[1;32mimport\u001b[0m \u001b[0mpandas\u001b[0m \u001b[1;32mas\u001b[0m \u001b[0mpd\u001b[0m\u001b[1;33m\u001b[0m\u001b[1;33m\u001b[0m\u001b[0m\n\u001b[0;32m      5\u001b[0m \u001b[1;32mfrom\u001b[0m \u001b[0mbs4\u001b[0m \u001b[1;32mimport\u001b[0m \u001b[0mBeautifulSoup\u001b[0m\u001b[1;33m,\u001b[0m\u001b[0mSoupStrainer\u001b[0m\u001b[1;33m\u001b[0m\u001b[1;33m\u001b[0m\u001b[0m\n",
      "\u001b[1;32mc:\\users\\hp\\anaconda3\\envs\\smart_nlp\\lib\\site-packages\\chromedriver\\__init__.py\u001b[0m in \u001b[0;36m<module>\u001b[1;34m\u001b[0m\n\u001b[0;32m     14\u001b[0m \u001b[1;33m\u001b[0m\u001b[0m\n\u001b[0;32m     15\u001b[0m \u001b[1;32mif\u001b[0m \u001b[1;32mnot\u001b[0m \u001b[0mos\u001b[0m\u001b[1;33m.\u001b[0m\u001b[0mpath\u001b[0m\u001b[1;33m.\u001b[0m\u001b[0misfile\u001b[0m\u001b[1;33m(\u001b[0m\u001b[0mCHROMEDRV_PATH\u001b[0m\u001b[1;33m)\u001b[0m\u001b[1;33m:\u001b[0m\u001b[1;33m\u001b[0m\u001b[1;33m\u001b[0m\u001b[0m\n\u001b[1;32m---> 16\u001b[1;33m     \u001b[1;32mraise\u001b[0m \u001b[0mRuntimeError\u001b[0m\u001b[1;33m(\u001b[0m\u001b[1;34m'This package supports only Linux, MacOSX or Windows platforms'\u001b[0m\u001b[1;33m)\u001b[0m\u001b[1;33m\u001b[0m\u001b[1;33m\u001b[0m\u001b[0m\n\u001b[0m\u001b[0;32m     17\u001b[0m \u001b[1;33m\u001b[0m\u001b[0m\n\u001b[0;32m     18\u001b[0m \u001b[1;31m# little hack to have chrome driver in sys path\u001b[0m\u001b[1;33m\u001b[0m\u001b[1;33m\u001b[0m\u001b[1;33m\u001b[0m\u001b[0m\n",
      "\u001b[1;31mRuntimeError\u001b[0m: This package supports only Linux, MacOSX or Windows platforms"
     ]
    }
   ],
   "source": [
    "import chromedriver as uc\n",
    "import time\n",
    "import datetime\n",
    "import pandas as pd\n",
    "from bs4 import BeautifulSoup,SoupStrainer\n",
    "from selenium.webdriver.chrome.options import Options\n",
    "\n",
    "df=pd.DataFrame(columns=['SNO','call OI','call CHNG IN OI','call VOLUME','call IV','call LTP','call CHNG','call BID QTY','call BID PRICE','call ASK PRICE','call ASK QTY','STRIKE PRICE','put BID QTY','put BID PRICE','put ASK PRICE','put ASK QTY','put CHNG','put LTP','put IV','put VOLUME','put CHNG IN OI','put OI'])\n",
    "\n",
    "co = Options()\n",
    "co.add_argument(\"--log-level=3\")\n",
    "from selenium.webdriver import Chrome\n",
    "chrome_options = uc.ChromeOptions() # new solution\n",
    "#chrome_options.add_argument('--headless')\n",
    "driver = Chrome(executable_path=r\"C:\\Users\\deepa\\Downloads\\chromedriver_win32 (2)\\chromedriver.exe\",options=chrome_options)\n",
    "\n",
    "driver.get('https://www.nseindia.com/get-quotes/derivatives?symbol=BANKNIFTY')\n",
    "\n",
    "driver.minimize_window()\n",
    "time.sleep(3)\n",
    "\n",
    "for j in range(0,50):\n",
    "    print(j)\n",
    "#.....refresh the page and read data again \n",
    "\n",
    "    driver.refresh()\n",
    "    continue_link1 = driver.find_element_by_xpath('''//*[@id=\"subtab-derivatives\"]/div[2]/nav/div/div/a[2]''')\n",
    "    time.sleep(10)\n",
    "    filter_tag=SoupStrainer(\"table\")\n",
    "\n",
    "    continue_link1.click()\n",
    "    time.sleep(3)\n",
    "    rtime = str(driver.find_element_by_xpath('''//*[@id=\"asondate\"]''').text)\n",
    "    if rtime=='':\n",
    "        continue\n",
    "    print(rtime)\n",
    "    page=driver.page_source\n",
    "    soup = BeautifulSoup(page, \"html.parser\",parse_only=filter_tag)\n",
    "\n",
    "    gdp_table = soup.find(\"table\", attrs={\"id\": \"optionChainTable-indices\"})\n",
    "    gdp_table_data = gdp_table.tbody.find_all(\"tr\")\n",
    "    \n",
    "    if len(gdp_table_data)==1:\n",
    "        continue\n",
    "    else:\n",
    "        for i in range (0,len(gdp_table_data)):\n",
    "            list1 = []\n",
    "            for td in gdp_table_data[i].find_all(\"td\"):\n",
    "                # remove any newlines and extra spaces from left and right\n",
    "                cell_text=td.text\n",
    "                if cell_text is None or cell_text=='':\n",
    "                    cell_text ='0'\n",
    "                cell_text=cell_text.replace(',','')\n",
    "                list1.append(cell_text)\n",
    "\n",
    "            if len(list1) > 0:\n",
    "                list1 = ['0' if i=='-' else i for i in list1]\n",
    "            else:\n",
    "                continue       \n",
    "            del list1[0]\n",
    "            del list1[-1]\n",
    "\n",
    "            list1 = list(map(float, list1))\n",
    "            list1.insert(0,rtime)   \n",
    "            df.loc[len(df)] = list1\n",
    "\n",
    "# df.to_excel('option-data.xlsx)"
   ]
  },
  {
   "cell_type": "code",
   "execution_count": null,
   "metadata": {},
   "outputs": [],
   "source": []
  }
 ],
 "metadata": {
  "kernelspec": {
   "display_name": "Python 3 (ipykernel)",
   "language": "python",
   "name": "python3"
  },
  "language_info": {
   "codemirror_mode": {
    "name": "ipython",
    "version": 3
   },
   "file_extension": ".py",
   "mimetype": "text/x-python",
   "name": "python",
   "nbconvert_exporter": "python",
   "pygments_lexer": "ipython3",
   "version": "3.8.11"
  }
 },
 "nbformat": 4,
 "nbformat_minor": 4
}
